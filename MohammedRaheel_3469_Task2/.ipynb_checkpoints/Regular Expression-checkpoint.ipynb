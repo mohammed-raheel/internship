{
 "cells": [
  {
   "cell_type": "markdown",
   "metadata": {},
   "source": [
    "Functions available in re package\n",
    "1) search : returns a match object if there is a match anywhere in the string. Returns empty list if no match found. The match object has functions which can be invoked to extract information.\n",
    "2) findall : returns a list containing all the matches\n",
    "3) split : returns a list where the string has been split at each match\n",
    "4) sub : replaces one or more match with a string"
   ]
  },
  {
   "cell_type": "code",
   "execution_count": 1,
   "metadata": {},
   "outputs": [
    {
     "name": "stdout",
     "output_type": "stream",
     "text": [
      "Findall result:  ['The', 'The']\n",
      "There is match\n",
      "Split result:  ['The', 'rain', 'is', 'falling', 'in', 'The', 'country', 'Spain']\n",
      "Sub result:  The-rain-is-falling-in-The-country-Spain\n",
      "Match result number of characters:  10\n"
     ]
    }
   ],
   "source": [
    "# Check if the string starts with The and ends with Spain\n",
    "import re\n",
    "txt = \"The rain is falling in The country Spain\"\n",
    "\n",
    "findAllResult = re.findall('The',txt)\n",
    "searchResult = re.search('^The.*Spain$',txt)\n",
    "\n",
    "splitResult = re.split(' ',txt) # Here we can pass one more argument to limit the number of splits\n",
    "# split('split-at-what','actual-string',maxiter)\n",
    "\n",
    "subResult = re.sub(' ','-',txt) # Here we can control the number of replacements by specifying the count of occurence \n",
    "# to replace (txt-to-replace,'replace_with_what','actual-string',count)\n",
    "\n",
    "pattern = '\\bS...n$'\n",
    "txt1 = 'Hello and spain'\n",
    "# r\"\\bSpain\"\n",
    "#matchResult = re.match('.*spain',txt1)\n",
    "#matchResult = re.match('.*and.*',txt1)\n",
    "#matchResult = re.match('\\AHello',txt1)\n",
    "matchResult = re.search(r'\\bfootball','a football')\n",
    "\n",
    "print('Findall result: ',findAllResult)\n",
    "if searchResult:\n",
    "    print('There is match')\n",
    "else:\n",
    "    print('No match')\n",
    "\n",
    "print('Split result: ', splitResult)\n",
    "print('Sub result: ',subResult)\n",
    "print('Match result number of characters: ',matchResult.end())"
   ]
  },
  {
   "cell_type": "markdown",
   "metadata": {},
   "source": [
    "Meta characters"
   ]
  },
  {
   "cell_type": "markdown",
   "metadata": {},
   "source": [
    "[]\tA set of characters\t\"[a-m]\"\n",
    "\n",
    "\\\tSignals a special sequence (can also be used to escape special characters)\t\"\\d\"\n",
    "\n",
    ".\tAny character (except newline character)\t\"he..o\"\n",
    "\n",
    "^\tStarts with\t\"^hello\"\n",
    "\n",
    "$\tEnds with\t\"world$\"\n",
    "\n",
    "*\tZero or more occurrences\t\"aix*\"\n",
    "\n",
    "+\tOne or more occurrences\t\"aix+\"\n",
    "\n",
    "{}\tExactly the specified number of occurrences\t\"al{2}\"\n",
    "\n",
    "|\tEither or\t\"falls|stays\"\n",
    "\n",
    "()\tCapture and group"
   ]
  },
  {
   "cell_type": "code",
   "execution_count": 29,
   "metadata": {},
   "outputs": [
    {
     "name": "stdout",
     "output_type": "stream",
     "text": [
      "['all']\n",
      "Yes, there is at least one match!\n",
      "['abcdef']\n"
     ]
    }
   ],
   "source": [
    "# Exactly specified number of occurences\n",
    "import re\n",
    "\n",
    "txt = \"The rain in Spain falls mainly in the plain! abcdef\"\n",
    "\n",
    "#Check if the string contains \"a\" followed by exactly two \"l\" characters:\n",
    "\n",
    "x = re.findall(\"al{2}\", txt)\n",
    "y = re.findall(\"abcdef$\",txt)\n",
    "\n",
    "print(x)\n",
    "\n",
    "if (x):\n",
    "  print(\"Yes, there is at least one match!\")\n",
    "else:\n",
    "  print(\"No match\")\n",
    "\n",
    "print(y)"
   ]
  },
  {
   "cell_type": "code",
   "execution_count": 81,
   "metadata": {},
   "outputs": [
    {
     "name": "stdout",
     "output_type": "stream",
     "text": [
      "<_sre.SRE_Match object; span=(0, 68), match='The Vikings are here to conquer but are going to >\n",
      "<_sre.SRE_Match object; span=(0, 10), match='1XY10CS033'>\n"
     ]
    }
   ],
   "source": [
    "# Demonstration of {}\n",
    "txt2 = 'The Vikings are here to conquer but are going to lose\\. Sore loosers'\n",
    "matchResult2 = re.match('.*o{2,3}.*',txt2)\n",
    "print(matchResult2)\n",
    "\n",
    "digitBox = '1XY10CS033'\n",
    "matchResult2 = re.match('.*[0-9]{2}',digitBox)\n",
    "print(matchResult2)"
   ]
  },
  {
   "cell_type": "code",
   "execution_count": 166,
   "metadata": {},
   "outputs": [
    {
     "name": "stdout",
     "output_type": "stream",
     "text": [
      "Match found\n"
     ]
    }
   ],
   "source": [
    "# Demonstration of group\n",
    "txt3 = 'adxyz'\n",
    "matchResult3 = re.match('(ab|ac|ad)xyz',txt3)\n",
    "\n",
    "if matchResult3:\n",
    "    print('Match found')\n",
    "else:\n",
    "    print('Match not found')"
   ]
  },
  {
   "cell_type": "code",
   "execution_count": 210,
   "metadata": {},
   "outputs": [
    {
     "name": "stdout",
     "output_type": "stream",
     "text": [
      "Matching any decimal number in string using \\d (0, 8)\n",
      "Matching any decimal number in string:  0 8\n",
      "Matching non decimal values:  a12abc34\n"
     ]
    }
   ],
   "source": [
    "# Demonstration of \\d i.e any digit from 0-9\n",
    "txt4 = 'a12abc34'\n",
    "matchResult4 = re.match('.*\\d{2}',txt4)\n",
    "\n",
    "if matchResult4:\n",
    "    print('Matching any decimal number in string using \\\\d',matchResult4.span())\n",
    "\n",
    "matchResult4 = re.match('.*[0-9]',txt4)\n",
    "\n",
    "if matchResult4:\n",
    "    print('Matching any decimal number in string: ',matchResult4.start(),matchResult4.end())\n",
    "\n",
    "matchResult4 = re.match('\\D',txt4)\n",
    "if matchResult4:\n",
    "    print('Matching non decimal values: ',matchResult4.string)"
   ]
  },
  {
   "cell_type": "code",
   "execution_count": 173,
   "metadata": {},
   "outputs": [
    {
     "name": "stdout",
     "output_type": "stream",
     "text": [
      "Space present\n",
      "['P', 'y', 't', 'h', 'o', 'n', 'R', 'e', 'g', 'E', 'x']\n"
     ]
    }
   ],
   "source": [
    "# Demonstration of \\s. whitespace check\n",
    "txt5 = 'Python RegEx'\n",
    "matchResult5 = re.findall('\\s',txt5)\n",
    "\n",
    "if matchResult5:\n",
    "    print('Space present')\n",
    "else:\n",
    "    print('Space not present')\n",
    "    \n",
    "matchResult5 = re.findall('\\S',txt5)\n",
    "print(matchResult5)"
   ]
  },
  {
   "cell_type": "code",
   "execution_count": 219,
   "metadata": {
    "scrolled": true
   },
   "outputs": [
    {
     "name": "stdout",
     "output_type": "stream",
     "text": [
      "contains alphanumeric characters\n",
      "contains non alphanumeric characters\n"
     ]
    }
   ],
   "source": [
    "# Matching alphanumeric character\n",
    "txt6 = 'alphaNumeric12&_0Q'\n",
    "matchResult6 = re.match('\\w',txt6)\n",
    "\n",
    "if matchResult6:\n",
    "    print('contains alphanumeric characters')\n",
    "    \n",
    "matchResult6 = re.findall('\\W',txt6)\n",
    "\n",
    "if matchResult6:\n",
    "    print('contains non alphanumeric characters')"
   ]
  },
  {
   "cell_type": "markdown",
   "metadata": {},
   "source": [
    "Match function"
   ]
  },
  {
   "cell_type": "code",
   "execution_count": 6,
   "metadata": {},
   "outputs": [
    {
     "name": "stdout",
     "output_type": "stream",
     "text": [
      "Pattern found:  AV\n"
     ]
    }
   ],
   "source": [
    "# Searches for the pattern at the start of the string\n",
    "txt7 = 'AV Analytics Vidhya AV'\n",
    "pattern = 'AV'\n",
    "matchResult7 = re.match(pattern,txt7)\n",
    "if matchResult7:\n",
    "    print('Pattern found: ',matchResult7.group())\n",
    "else:\n",
    "    print('Pattern not found')\n"
   ]
  },
  {
   "cell_type": "markdown",
   "metadata": {},
   "source": [
    "Compile function"
   ]
  },
  {
   "cell_type": "code",
   "execution_count": 13,
   "metadata": {},
   "outputs": [
    {
     "name": "stdout",
     "output_type": "stream",
     "text": [
      "['AV', 'AV']\n",
      "['AV']\n"
     ]
    }
   ],
   "source": [
    "# Combine regualar expression into pattern objects which can be reused for pattern matching\n",
    "compiledPattern = re.compile('AV')\n",
    "result = compiledPattern.findall('AV Analytics Vidhya AV')\n",
    "print(result)\n",
    "result = compiledPattern.findall('AV is largest analytics community of India')\n",
    "print(result)"
   ]
  },
  {
   "cell_type": "markdown",
   "metadata": {},
   "source": [
    "# PROBLEM 1\n",
    "Extract each character in a string"
   ]
  },
  {
   "cell_type": "code",
   "execution_count": 18,
   "metadata": {},
   "outputs": [
    {
     "name": "stdout",
     "output_type": "stream",
     "text": [
      "['A', 'V', 'i', 's', 'l', 'a', 'r', 'g', 'e', 's', 't', 'A', 'n', 'a', 'l', 'y', 't', 'i', 'c', 's', 'c', 'o', 'm', 'm', 'u', 'n', 'i', 't', 'y', 'o', 'f', 'I', 'n', 'd', 'i', 'a']\n"
     ]
    }
   ],
   "source": [
    "txt1 = 'AV is largest Analytics community of India'\n",
    "# Since we need to get each character from stirng, we need to get response as a list. Therefore use findall\n",
    "# Ignoring spaces and extracting other alphanumeric characters. THerefore \\w\n",
    "# if we would have used '.', we would also include spaces which is not required\n",
    "pattern = '\\w'\n",
    "result1 = re.findall(pattern,txt1)\n",
    "print(result1)"
   ]
  },
  {
   "cell_type": "markdown",
   "metadata": {},
   "source": [
    "Extracting each word"
   ]
  },
  {
   "cell_type": "code",
   "execution_count": 20,
   "metadata": {},
   "outputs": [
    {
     "name": "stdout",
     "output_type": "stream",
     "text": [
      "['AV', 'is', 'largest', 'Analytics', 'community', 'of', 'India']\n"
     ]
    }
   ],
   "source": [
    "# to extract each word, we need to have delimeter. Here ' ' is the delimeter. Hence use \\w+\n",
    "# had we used \\w*, we would also include ' ' in the final response\n",
    "pattern = '\\w+'\n",
    "result1 = re.findall(pattern,txt1)\n",
    "print(result1)"
   ]
  },
  {
   "cell_type": "markdown",
   "metadata": {},
   "source": [
    "Extracting the starting word of the sentence"
   ]
  },
  {
   "cell_type": "code",
   "execution_count": 23,
   "metadata": {},
   "outputs": [
    {
     "name": "stdout",
     "output_type": "stream",
     "text": [
      "['AV']\n"
     ]
    }
   ],
   "source": [
    "pattern = '^\\w*'\n",
    "matchResult1 = re.findall(pattern,txt1)\n",
    "print(matchResult1)"
   ]
  },
  {
   "cell_type": "markdown",
   "metadata": {},
   "source": [
    "To extract last word of sentence"
   ]
  },
  {
   "cell_type": "code",
   "execution_count": 26,
   "metadata": {},
   "outputs": [
    {
     "name": "stdout",
     "output_type": "stream",
     "text": [
      "['India']\n"
     ]
    }
   ],
   "source": [
    "pattern = '\\w+$'\n",
    "matchResult1 = re.findall(pattern,txt1)\n",
    "print(matchResult1)"
   ]
  },
  {
   "cell_type": "markdown",
   "metadata": {},
   "source": [
    "# Problem 2"
   ]
  },
  {
   "cell_type": "markdown",
   "metadata": {},
   "source": [
    "Return first 2 characters of each word"
   ]
  },
  {
   "cell_type": "code",
   "execution_count": 70,
   "metadata": {},
   "outputs": [
    {
     "name": "stdout",
     "output_type": "stream",
     "text": [
      "['AV', 'is', 'la', 'An', 'co', 'of', 'In']\n"
     ]
    }
   ],
   "source": [
    "txt2 = 'AV is largest Analytics community of India'\n",
    "pattern = '\\b\\w.'\n",
    "result2 = re.findall(r'\\b\\w.',txt2)\n",
    "print(result2)"
   ]
  },
  {
   "cell_type": "markdown",
   "metadata": {},
   "source": [
    "# Problem 3"
   ]
  },
  {
   "cell_type": "markdown",
   "metadata": {},
   "source": [
    "Check if string is an email"
   ]
  },
  {
   "cell_type": "code",
   "execution_count": 71,
   "metadata": {},
   "outputs": [
    {
     "name": "stdout",
     "output_type": "stream",
     "text": [
      "['xyz@av.in']\n"
     ]
    }
   ],
   "source": [
    "email = 'xyz@av.in'\n",
    "pattern = '\\w+@\\w+\\.\\w\\w.*'\n",
    "result3 = re.findall(pattern,email)\n",
    "print(result3)"
   ]
  },
  {
   "cell_type": "markdown",
   "metadata": {},
   "source": [
    "Return domain type of a given email id"
   ]
  },
  {
   "cell_type": "code",
   "execution_count": 102,
   "metadata": {},
   "outputs": [
    {
     "data": {
      "text/plain": [
       "['@av.in']"
      ]
     },
     "execution_count": 102,
     "metadata": {},
     "output_type": "execute_result"
    }
   ],
   "source": [
    "result = re.findall('@\\w+\\.\\w+','xyz@av.in')\n",
    "result"
   ]
  },
  {
   "cell_type": "markdown",
   "metadata": {},
   "source": [
    "To find whether domain ends with com or in"
   ]
  },
  {
   "cell_type": "code",
   "execution_count": 175,
   "metadata": {},
   "outputs": [
    {
     "name": "stdout",
     "output_type": "stream",
     "text": [
      "['com']\n"
     ]
    }
   ],
   "source": [
    "# Approach 1\n",
    "result = re.findall('@\\w+\\.(\\w+)','xyz@av.com')\n",
    "print(result)"
   ]
  },
  {
   "cell_type": "code",
   "execution_count": 121,
   "metadata": {},
   "outputs": [
    {
     "name": "stdout",
     "output_type": "stream",
     "text": [
      "['in']\n"
     ]
    }
   ],
   "source": [
    "# Approach 2\n",
    "result = re.findall(r'\\w+@\\w+\\.(\\b\\w+)','xyz@av.in')\n",
    "print(result)"
   ]
  },
  {
   "cell_type": "markdown",
   "metadata": {},
   "source": [
    "# Problem 4"
   ]
  },
  {
   "cell_type": "markdown",
   "metadata": {},
   "source": [
    "Return date from given string"
   ]
  },
  {
   "cell_type": "code",
   "execution_count": 122,
   "metadata": {},
   "outputs": [
    {
     "name": "stdout",
     "output_type": "stream",
     "text": [
      "['12-05-2007', '11-11-2011', '12-01-2009']\n"
     ]
    }
   ],
   "source": [
    "# Approach 1\n",
    "txt4 = 'Amit 34-3456 12-05-2007, XYZ 56-4532 11-11-2011, ABC 67-8945 12-01-2009'\n",
    "pattern = '\\d\\d-\\d\\d-\\d\\d\\d\\d'\n",
    "result4 = re.findall(pattern,txt4)\n",
    "print(result4)"
   ]
  },
  {
   "cell_type": "code",
   "execution_count": 123,
   "metadata": {},
   "outputs": [
    {
     "name": "stdout",
     "output_type": "stream",
     "text": [
      "['12-05-2007', '11-11-2011', '12-01-2009']\n"
     ]
    }
   ],
   "source": [
    "# Approach 2\n",
    "pattern = '\\d{2}-\\d{2}-\\d{4}'\n",
    "result4 = re.findall(pattern,txt4)\n",
    "print(result4)"
   ]
  },
  {
   "cell_type": "markdown",
   "metadata": {},
   "source": [
    "Extract year"
   ]
  },
  {
   "cell_type": "code",
   "execution_count": 125,
   "metadata": {},
   "outputs": [
    {
     "name": "stdout",
     "output_type": "stream",
     "text": [
      "['2007', '2011', '2009']\n"
     ]
    }
   ],
   "source": [
    "# Using grouping to extract specific item\n",
    "pattern = '\\d{2}-\\d{2}-(\\d{4})'\n",
    "result4 = re.findall(pattern,txt4)\n",
    "print(result4)"
   ]
  },
  {
   "cell_type": "markdown",
   "metadata": {},
   "source": [
    "# Problem 5"
   ]
  },
  {
   "cell_type": "markdown",
   "metadata": {},
   "source": [
    "Return all words of a string that begin with a vowel"
   ]
  },
  {
   "cell_type": "code",
   "execution_count": 131,
   "metadata": {},
   "outputs": [
    {
     "name": "stdout",
     "output_type": "stream",
     "text": [
      "['av', 'is', 'analytics', 'of', 'india']\n"
     ]
    }
   ],
   "source": [
    "# Approach 1\n",
    "txt5 = 'AV is largest Analytics community of India'\n",
    "result5 = re.findall(r'\\b[aeiou]\\w*',txt5.lower())\n",
    "print(result5)"
   ]
  },
  {
   "cell_type": "code",
   "execution_count": 132,
   "metadata": {},
   "outputs": [
    {
     "name": "stdout",
     "output_type": "stream",
     "text": [
      "['AV', 'is', 'Analytics', 'of', 'India']\n"
     ]
    }
   ],
   "source": [
    "# Approach 2\n",
    "result5 = re.findall(r'\\b[aeiouAEIOU]\\w*',txt5)\n",
    "print(result5)"
   ]
  },
  {
   "cell_type": "markdown",
   "metadata": {},
   "source": [
    "Extracting words beginning with consonants"
   ]
  },
  {
   "cell_type": "code",
   "execution_count": 141,
   "metadata": {},
   "outputs": [
    {
     "name": "stdout",
     "output_type": "stream",
     "text": [
      "['largest', 'community']\n"
     ]
    }
   ],
   "source": [
    "# Here adding space in the pattern is important\n",
    "result5 = re.findall(r'\\b[^aeiouAEIOU ]\\w+',txt5)\n",
    "print(result5)"
   ]
  },
  {
   "cell_type": "markdown",
   "metadata": {},
   "source": [
    "# Problem 6"
   ]
  },
  {
   "cell_type": "markdown",
   "metadata": {},
   "source": [
    "Validating a phone number"
   ]
  },
  {
   "cell_type": "code",
   "execution_count": 164,
   "metadata": {},
   "outputs": [
    {
     "name": "stdout",
     "output_type": "stream",
     "text": [
      "['9988776655', '8988226655']\n"
     ]
    }
   ],
   "source": [
    "phNumber = ['9988776655','7988776655','8988226655','998877665522']\n",
    "result = []\n",
    "for i in phNumber:\n",
    "    result6 = re.match(r'\\b[8|9]\\d{9}',i)\n",
    "    if result6 and len(i)==10:\n",
    "        result.append(i)\n",
    "print(result)"
   ]
  },
  {
   "cell_type": "markdown",
   "metadata": {},
   "source": [
    "# Problem 7"
   ]
  },
  {
   "cell_type": "markdown",
   "metadata": {},
   "source": [
    "Split a string which has multiple delimeters"
   ]
  },
  {
   "cell_type": "code",
   "execution_count": 165,
   "metadata": {},
   "outputs": [
    {
     "name": "stdout",
     "output_type": "stream",
     "text": [
      "['asdf', 'fjdk', 'afed', 'fjek', 'asdf', 'foo']\n"
     ]
    }
   ],
   "source": [
    "# Approach 1\n",
    "txt7 = 'asdf fjdk;afed,fjek,asdf,foo'\n",
    "result7 = re.findall(r'\\w+',txt7)\n",
    "print(result7)"
   ]
  },
  {
   "cell_type": "code",
   "execution_count": 167,
   "metadata": {},
   "outputs": [
    {
     "name": "stdout",
     "output_type": "stream",
     "text": [
      "['asdf', 'fjdk', 'afed', 'fjek', 'asdf', 'foo']\n"
     ]
    }
   ],
   "source": [
    "# Approach 2\n",
    "result7 = re.split(r'[;,\\s]',txt7)\n",
    "print(result7)"
   ]
  },
  {
   "cell_type": "markdown",
   "metadata": {},
   "source": [
    "# Problem 8"
   ]
  },
  {
   "cell_type": "code",
   "execution_count": 7,
   "metadata": {},
   "outputs": [
    {
     "name": "stdout",
     "output_type": "stream",
     "text": [
      "[('Noah', 'Emma'), ('Liam', 'Olivia'), ('Mason', 'Sophia'), ('Jacob', 'Isabella'), ('William', 'Ava'), ('Ethan', 'Mia')]\n"
     ]
    }
   ],
   "source": [
    "htmlText = '''<tr align=\"center\"><td>1</td> <td>Noah</td> <td>Emma</td></tr>\n",
    "<tr align=\"center\"><td>2</td> <td>Liam</td> <td>Olivia</td></tr>\n",
    "<tr align=\"center\"><td>3</td> <td>Mason</td> <td>Sophia</td></tr>\n",
    "<tr align=\"center\"><td>4</td> <td>Jacob</td> <td>Isabella</td></tr>\n",
    "<tr align=\"center\"><td>5</td> <td>William</td> <td>Ava</td></tr>\n",
    "<tr align=\"center\"><td>6</td> <td>Ethan</td> <td>Mia</td></tr>\n",
    "<tr align=\"center\"><td>7</td> <td HTML>Michael</td> <td>Emily</td></tr>'''\n",
    "\n",
    "result8 = re.findall(r'<td>\\w+</td>\\s<td>(\\w+)</td>\\s<td>(\\w+)</td>',htmlText)\n",
    "print(result8)"
   ]
  },
  {
   "cell_type": "code",
   "execution_count": 9,
   "metadata": {},
   "outputs": [
    {
     "name": "stdout",
     "output_type": "stream",
     "text": [
      "['1', 'Noah', 'Emma', '2', 'Liam', 'Olivia', '3', 'Mason', 'Sophia', '4', 'Jacob', 'Isabella', '5', 'William', 'Ava', '6', 'Ethan', 'Mia', '7', 'Emily']\n"
     ]
    }
   ],
   "source": [
    "result9 = re.findall(r'<td>(\\w+)</td>',htmlText)\n",
    "print(result9)"
   ]
  },
  {
   "cell_type": "code",
   "execution_count": 10,
   "metadata": {},
   "outputs": [
    {
     "name": "stdout",
     "output_type": "stream",
     "text": [
      "['1']\n"
     ]
    }
   ],
   "source": [
    "z = re.findall(r'<td>(\\w+)</td>','<td>1</td>')\n",
    "print(z)"
   ]
  },
  {
   "cell_type": "code",
   "execution_count": 7,
   "metadata": {},
   "outputs": [
    {
     "data": {
      "text/plain": [
       "'1990'"
      ]
     },
     "execution_count": 7,
     "metadata": {},
     "output_type": "execute_result"
    }
   ],
   "source": [
    "fn = 'baby1990.html'\n",
    "year = re.findall('^\\D+(\\d{4,4})\\.\\D',fn)\n",
    "year[0]"
   ]
  },
  {
   "cell_type": "code",
   "execution_count": null,
   "metadata": {},
   "outputs": [],
   "source": []
  }
 ],
 "metadata": {
  "kernelspec": {
   "display_name": "Python 3",
   "language": "python",
   "name": "python3"
  },
  "language_info": {
   "codemirror_mode": {
    "name": "ipython",
    "version": 3
   },
   "file_extension": ".py",
   "mimetype": "text/x-python",
   "name": "python",
   "nbconvert_exporter": "python",
   "pygments_lexer": "ipython3",
   "version": "3.6.4"
  }
 },
 "nbformat": 4,
 "nbformat_minor": 2
}
