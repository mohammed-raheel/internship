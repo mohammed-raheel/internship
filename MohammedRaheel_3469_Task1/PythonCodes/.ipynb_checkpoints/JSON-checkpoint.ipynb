{
 "cells": [
  {
   "cell_type": "markdown",
   "metadata": {},
   "source": [
    "Question 1: Convert the following data into JSON format"
   ]
  },
  {
   "cell_type": "code",
   "execution_count": 2,
   "metadata": {},
   "outputs": [
    {
     "name": "stdout",
     "output_type": "stream",
     "text": [
      "{\"key1\": \"value1\", \"key2\": \"value2\"}\n"
     ]
    }
   ],
   "source": [
    "# To convert into JSON format, use dumps()\n",
    "import json\n",
    "\n",
    "dict1 = {\"key1\" : \"value1\", \"key2\" : \"value2\"}\n",
    "json1 = json.dumps(dict1)\n",
    "print(json1)"
   ]
  },
  {
   "cell_type": "markdown",
   "metadata": {},
   "source": [
    "Question 2: Access the value of key2 from the following JSON"
   ]
  },
  {
   "cell_type": "code",
   "execution_count": 9,
   "metadata": {},
   "outputs": [
    {
     "name": "stdout",
     "output_type": "stream",
     "text": [
      "Key2:  value2\n"
     ]
    }
   ],
   "source": [
    "# To access a specific key, first convert to a dictionary using loads()\n",
    "json2 = '{\"key1\": \"value1\", \"key2\": \"value2\"}'\n",
    "dict2 = json.loads(json2)\n",
    "print('Key2: ',dict2['key2'])"
   ]
  },
  {
   "cell_type": "markdown",
   "metadata": {},
   "source": [
    "Question 3: PrettyPrint following JSON data"
   ]
  },
  {
   "cell_type": "code",
   "execution_count": 14,
   "metadata": {},
   "outputs": [
    {
     "name": "stdout",
     "output_type": "stream",
     "text": [
      "{\n",
      "  \"key1\"=\"value1\",\n",
      "  \"key2\"=\"value2\"\n",
      "}\n"
     ]
    }
   ],
   "source": [
    "dict3 = {\"key1\": \"value1\", \"key2\": \"value2\"}\n",
    "json3 = json.dumps(dict3,indent=2,separators=(\",\",\"=\")) # order of separator matters\n",
    "print(json3)"
   ]
  },
  {
   "cell_type": "markdown",
   "metadata": {},
   "source": [
    "Question 4: Sort JSON keys in Python and write it into a file"
   ]
  },
  {
   "cell_type": "code",
   "execution_count": 18,
   "metadata": {},
   "outputs": [
    {
     "name": "stdout",
     "output_type": "stream",
     "text": [
      "{\n",
      "  \"age\": 29,\n",
      "  \"id\": 1,\n",
      "  \"name\": \"value2\"\n",
      "}\n"
     ]
    }
   ],
   "source": [
    "dict4 = {\"id\" : 1, \"name\" : \"value2\", \"age\" : 29}\n",
    "json4 = json.dumps(dict4,indent=2,sort_keys=True)\n",
    "print(json4)\n",
    "\n",
    "f = open('Sort-JSON-Keys.txt','w')\n",
    "f.write(json4)\n",
    "f.close()"
   ]
  },
  {
   "cell_type": "markdown",
   "metadata": {},
   "source": [
    "Question 5: Access the nested key ‘salary’ from the following JSON"
   ]
  },
  {
   "cell_type": "code",
   "execution_count": 19,
   "metadata": {},
   "outputs": [
    {
     "data": {
      "text/plain": [
       "7000"
      ]
     },
     "execution_count": 19,
     "metadata": {},
     "output_type": "execute_result"
    }
   ],
   "source": [
    "json5 = \"\"\"{ \"company\":{\"employee\":{\"name\":\"emma\",\"payable\":{ \"salary\":7000,\"bonus\":800}}}}\"\"\"\n",
    "#convert to a dictionary\n",
    "dict5 = json.loads(json5)\n",
    "dict5['company']['employee']['payable']['salary']"
   ]
  },
  {
   "cell_type": "markdown",
   "metadata": {},
   "source": [
    "Question 6: Convert the following Vehicle Object into JSON"
   ]
  },
  {
   "cell_type": "code",
   "execution_count": 22,
   "metadata": {},
   "outputs": [
    {
     "name": "stdout",
     "output_type": "stream",
     "text": [
      "{\n",
      "  \"name\": \"Toyota Rav4\",\n",
      "  \"engine\": \"2.5L\",\n",
      "  \"price\": 32000\n",
      "}\n"
     ]
    }
   ],
   "source": [
    "class Vehicle:\n",
    "    def __init__(self, name, engine, price):\n",
    "        self.name = name\n",
    "        self.engine = engine\n",
    "        self.price = price\n",
    "\n",
    "vehicle = Vehicle(\"Toyota Rav4\", \"2.5L\", 32000)\n",
    "dict6 = {'name':vehicle.name,'engine':vehicle.engine,'price':vehicle.price}\n",
    "json6 = json.dumps(dict6,indent=2)\n",
    "print(json6)"
   ]
  },
  {
   "cell_type": "markdown",
   "metadata": {},
   "source": [
    "Question 7: Convert the following JSON into Vehicle Object"
   ]
  },
  {
   "cell_type": "code",
   "execution_count": 24,
   "metadata": {},
   "outputs": [
    {
     "name": "stdout",
     "output_type": "stream",
     "text": [
      "Toyota Rav4\n",
      "2.5L\n",
      "32000\n"
     ]
    }
   ],
   "source": [
    "class Vehicle:\n",
    "    def __init__(self, name, engine, price):\n",
    "        self.name = name\n",
    "        self.engine = engine\n",
    "        self.price = price\n",
    "\n",
    "# Since we want a class object, we will decode the JSON string to map to fields of Vehicle class\n",
    "def vehicleDecoder(obj):\n",
    "    # Return new Vehicle object\n",
    "    return Vehicle(obj['name'],obj['engine'],obj['price'])\n",
    "\n",
    "# Create a json string\n",
    "json7 = json.loads('{ \"name\": \"Toyota Rav4\", \"engine\": \"2.5L\", \"price\": 32000 }')\n",
    "vehicle1 = vehicleDecoder(json7)\n",
    "print(vehicle1.name)\n",
    "print(vehicle1.engine)\n",
    "print(vehicle1.price)"
   ]
  },
  {
   "cell_type": "markdown",
   "metadata": {},
   "source": [
    "Question 8: Check whether following json is valid or invalid. If Invalid correct it"
   ]
  },
  {
   "cell_type": "code",
   "execution_count": 46,
   "metadata": {},
   "outputs": [
    {
     "name": "stdout",
     "output_type": "stream",
     "text": [
      "{\"company\": {\"employee\": {\"name\": \"emma\", \"payble\": {\"salary\": 7000, \"bonus\": 800}}}}\n"
     ]
    }
   ],
   "source": [
    "# when converting the dictionary to json, we observe that , is missing. After adding, json correctly formed\n",
    "json8 = json.dumps({\"company\":{ \"employee\":{ \"name\":\"emma\",\"payble\":{ \"salary\":7000,\"bonus\":800}}}})\n",
    "print(json8)"
   ]
  },
  {
   "cell_type": "markdown",
   "metadata": {},
   "source": [
    "Question 9: Parse the following JSON to get all the values of a key ‘name’ within an array"
   ]
  },
  {
   "cell_type": "code",
   "execution_count": 56,
   "metadata": {},
   "outputs": [
    {
     "name": "stdout",
     "output_type": "stream",
     "text": [
      "['name1', 'name2']\n"
     ]
    }
   ],
   "source": [
    "lst1 = [ \n",
    "   { \n",
    "      \"id\":1,\n",
    "      \"name\":\"name1\",\n",
    "      \"color\":[ \n",
    "         \"red\",\n",
    "         \"green\"\n",
    "      ]\n",
    "   },\n",
    "   { \n",
    "      \"id\":2,\n",
    "      \"name\":\"name2\",\n",
    "      \"color\":[ \n",
    "         \"pink\",\n",
    "         \"yellow\"\n",
    "      ]\n",
    "   }\n",
    "]\n",
    "keyVal = []\n",
    "\n",
    "for i in lst1:\n",
    "    dict1 = i\n",
    "    keyVal.append(dict1['name'])\n",
    "\n",
    "print(keyVal)"
   ]
  },
  {
   "cell_type": "code",
   "execution_count": null,
   "metadata": {},
   "outputs": [],
   "source": []
  }
 ],
 "metadata": {
  "kernelspec": {
   "display_name": "Python 3",
   "language": "python",
   "name": "python3"
  },
  "language_info": {
   "codemirror_mode": {
    "name": "ipython",
    "version": 3
   },
   "file_extension": ".py",
   "mimetype": "text/x-python",
   "name": "python",
   "nbconvert_exporter": "python",
   "pygments_lexer": "ipython3",
   "version": "3.6.4"
  }
 },
 "nbformat": 4,
 "nbformat_minor": 2
}
