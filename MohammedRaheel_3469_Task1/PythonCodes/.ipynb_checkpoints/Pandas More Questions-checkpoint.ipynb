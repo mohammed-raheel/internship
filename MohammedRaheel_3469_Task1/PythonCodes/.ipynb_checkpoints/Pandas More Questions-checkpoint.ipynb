{
 "cells": [
  {
   "cell_type": "markdown",
   "metadata": {},
   "source": [
    "Question 1: How to import pandas and check the version?"
   ]
  },
  {
   "cell_type": "code",
   "execution_count": 3,
   "metadata": {},
   "outputs": [
    {
     "name": "stdout",
     "output_type": "stream",
     "text": [
      "Panda version:  0.22.0\n"
     ]
    }
   ],
   "source": [
    "import pandas as pd\n",
    "print('Panda version: ',pd.__version__)"
   ]
  },
  {
   "cell_type": "markdown",
   "metadata": {},
   "source": [
    "Question 2: How to create a series from a list, numpy array and dict?"
   ]
  },
  {
   "cell_type": "code",
   "execution_count": 16,
   "metadata": {},
   "outputs": [
    {
     "name": "stdout",
     "output_type": "stream",
     "text": [
      "List 1:  [1, 2, 3, 4, 5]\n",
      "Array 1:  [1 2 3 4 5]\n",
      "Dictionary 1:  {'a': 1, 'b': 2, 'c': 3, 'd': 4, 'e': 5}\n",
      "\n",
      "Series 1:  0    1\n",
      "1    2\n",
      "2    3\n",
      "3    4\n",
      "4    5\n",
      "dtype: int64\n",
      "\n",
      "Series 2:  0    1\n",
      "1    2\n",
      "2    3\n",
      "3    4\n",
      "4    5\n",
      "dtype: int64\n",
      "Series 3:  a    1\n",
      "b    2\n",
      "c    3\n",
      "d    4\n",
      "e    5\n",
      "dtype: int64\n"
     ]
    }
   ],
   "source": [
    "import numpy as np\n",
    "lst1 = [1,2,3,4,5]\n",
    "ar1 = np.asarray(lst1)\n",
    "dct1 = dict(zip(['a','b','c','d','e'],ar1))\n",
    "print('List 1: ',lst1)\n",
    "print('Array 1: ',ar1)\n",
    "print('Dictionary 1: ',dct1)\n",
    "\n",
    "sr1 = pd.Series(lst1)\n",
    "print('\\nSeries 1: ',sr1)\n",
    "\n",
    "sr2 = pd.Series(ar1)\n",
    "print('\\nSeries 2: ',sr2)\n",
    "\n",
    "sr3 = pd.Series(dct1)\n",
    "print('Series 3: ',sr3)"
   ]
  },
  {
   "cell_type": "markdown",
   "metadata": {},
   "source": [
    "Question 3: How to convert the index of a series into a column of a dataframe?"
   ]
  },
  {
   "cell_type": "code",
   "execution_count": 21,
   "metadata": {},
   "outputs": [
    {
     "name": "stdout",
     "output_type": "stream",
     "text": [
      "Series:  a    1\n",
      "b    2\n",
      "c    3\n",
      "d    4\n",
      "e    5\n",
      "dtype: int64\n",
      "  index  0\n",
      "0     a  1\n",
      "1     b  2\n",
      "2     c  3\n",
      "3     d  4\n",
      "4     e  5\n"
     ]
    }
   ],
   "source": [
    "print('Series: ',sr3)\n",
    "df1 = pd.DataFrame(sr3).reset_index()\n",
    "print(df1)"
   ]
  },
  {
   "cell_type": "markdown",
   "metadata": {},
   "source": [
    "Question 4: How to combine many series to form a dataframe?"
   ]
  },
  {
   "cell_type": "code",
   "execution_count": 42,
   "metadata": {},
   "outputs": [
    {
     "name": "stdout",
     "output_type": "stream",
     "text": [
      "  heading  value\n",
      "0       a      1\n",
      "1       b      2\n",
      "2       c      3\n",
      "3       d      4\n",
      "4       e      5\n",
      "5       f      6\n",
      "6       g      7\n",
      "7       h      8\n",
      "8       i      9\n",
      "9       j     10\n"
     ]
    }
   ],
   "source": [
    "lst3= ['a','b','c','d','e','f','g','h','i','j']\n",
    "ar3= np.asarray([1,2,3,4,5])\n",
    "ar4= np.asarray([6,7,8,9,10])\n",
    "# create the series\n",
    "sr3 = pd.Series(lst3)\n",
    "sr4 = pd.Series(np.append(ar3,ar4))\n",
    "\n",
    "# combine the two series to create a dataframe\n",
    "df2 = pd.DataFrame({'heading':sr3,'value':sr4})\n",
    "print(df2)"
   ]
  },
  {
   "cell_type": "markdown",
   "metadata": {},
   "source": [
    "Question 5: How to assign name to the series’ index?"
   ]
  },
  {
   "cell_type": "code",
   "execution_count": 43,
   "metadata": {},
   "outputs": [
    {
     "name": "stdout",
     "output_type": "stream",
     "text": [
      "0     1\n",
      "1     2\n",
      "2     3\n",
      "3     4\n",
      "4     5\n",
      "5     6\n",
      "6     7\n",
      "7     8\n",
      "8     9\n",
      "9    10\n",
      "dtype: int64\n",
      "\n",
      "After renaming index, series is:\n",
      " col1\n",
      "0     1\n",
      "1     2\n",
      "2     3\n",
      "3     4\n",
      "4     5\n",
      "5     6\n",
      "6     7\n",
      "7     8\n",
      "8     9\n",
      "9    10\n",
      "Name: renamedSeries, dtype: int64\n"
     ]
    }
   ],
   "source": [
    "# Using the same series created above in Question 4\n",
    "print(sr4)\n",
    "sr4.index.name = 'col1'\n",
    "sr4.name = 'renamedSeries'\n",
    "print('\\nAfter renaming index, series is:\\n',sr4)"
   ]
  },
  {
   "cell_type": "markdown",
   "metadata": {},
   "source": [
    "Question 6: How to get the items of series A not present in series B?"
   ]
  },
  {
   "cell_type": "code",
   "execution_count": 64,
   "metadata": {},
   "outputs": [
    {
     "data": {
      "text/plain": [
       "0    1\n",
       "1    2\n",
       "2    3\n",
       "dtype: int64"
      ]
     },
     "execution_count": 64,
     "metadata": {},
     "output_type": "execute_result"
    }
   ],
   "source": [
    "sr5 = pd.Series([1, 2, 3, 4, 5])\n",
    "sr6 = pd.Series([4, 5, 6, 7, 8])\n",
    "\n",
    "# In pandas, we do not have a diff or remove function. Instead we have to rely on the isin()\n",
    "# to check if elements of series A present in series B.\n",
    "sr5[~sr5.isin(sr6)]"
   ]
  },
  {
   "cell_type": "markdown",
   "metadata": {},
   "source": [
    "Question 7: How to get the items not common to both series A and series B?"
   ]
  },
  {
   "cell_type": "code",
   "execution_count": 75,
   "metadata": {},
   "outputs": [
    {
     "name": "stdout",
     "output_type": "stream",
     "text": [
      "0    1\n",
      "1    2\n",
      "2    3\n",
      "2    6\n",
      "3    7\n",
      "4    8\n",
      "dtype: int64\n"
     ]
    }
   ],
   "source": [
    "sr7 = pd.Series([1, 2, 3, 4, 5])\n",
    "sr8 = pd.Series([4, 5, 6, 7, 8])\n",
    "\n",
    "# In pandas, we do not have a diff or remove function. Instead we have to rely on the isin()\n",
    "# to check if elements of series A present in series B.\n",
    "uniqueElem = sr7[~sr7.isin(sr8)].append(sr8[~sr8.isin(sr7)])\n",
    "print(uniqueElem)"
   ]
  },
  {
   "cell_type": "markdown",
   "metadata": {},
   "source": [
    "Question 8: How to get the minimum, 25th percentile, median, 75th, and max of a numeric series?"
   ]
  },
  {
   "cell_type": "code",
   "execution_count": 88,
   "metadata": {},
   "outputs": [
    {
     "name": "stdout",
     "output_type": "stream",
     "text": [
      "Minimum Percentile: 1.0, 25 Percentile: 3.25, 75 Percentile: 7.75, Max Percentile: 10.0\n"
     ]
    }
   ],
   "source": [
    "sr9 = pd.Series(np.arange(1,11,1))\n",
    "minPerc = np.percentile(sr9,0)\n",
    "perc25 = np.percentile(sr9,25)\n",
    "perc75 = np.percentile(sr9,75)\n",
    "maxPerc = np.percentile(sr9,100)\n",
    "\n",
    "print('Minimum Percentile: {0}, 25 Percentile: {1}, 75 Percentile: {2}, Max Percentile: {3}'.format(minPerc,perc25,\n",
    "                                                                                                   perc75,maxPerc))"
   ]
  },
  {
   "cell_type": "markdown",
   "metadata": {},
   "source": [
    "Question 9: How to get frequency counts of unique items of a series?"
   ]
  },
  {
   "cell_type": "code",
   "execution_count": 97,
   "metadata": {},
   "outputs": [
    {
     "data": {
      "text/plain": [
       "6    3\n",
       "2    2\n",
       "7    1\n",
       "5    1\n",
       "4    1\n",
       "3    1\n",
       "1    1\n",
       "dtype: int64"
      ]
     },
     "execution_count": 97,
     "metadata": {},
     "output_type": "execute_result"
    }
   ],
   "source": [
    "sr10 = pd.Series([1,2,3,4,5,6,6,7,6,2])\n",
    "sr10.value_counts()"
   ]
  },
  {
   "cell_type": "markdown",
   "metadata": {},
   "source": [
    "Question 10: How to keep only top 2 most frequent values as it is and replace everything else as ‘Other’?"
   ]
  },
  {
   "cell_type": "code",
   "execution_count": 136,
   "metadata": {},
   "outputs": [
    {
     "name": "stdout",
     "output_type": "stream",
     "text": [
      "6    3\n",
      "2    2\n",
      "7    1\n",
      "5    1\n",
      "4    1\n",
      "3    1\n",
      "1    1\n",
      "dtype: int64\n",
      "0    Other\n",
      "1        2\n",
      "2    Other\n",
      "3    Other\n",
      "4    Other\n",
      "5        6\n",
      "6        6\n",
      "7    Other\n",
      "8        6\n",
      "9        2\n",
      "dtype: object\n"
     ]
    }
   ],
   "source": [
    "sr11 = pd.Series([1,2,3,4,5,6,6,7,6,2])\n",
    "print(sr11.value_counts())\n",
    "highFreq = sr11.value_counts().head(2)\n",
    "\n",
    "# Tried with head, that resulted in the number corresponding to count to also change. There fore using index\n",
    "sr11[~sr11.isin(sr11.value_counts().index[:2])] = 'Other'\n",
    "print(sr11)\n",
    "#sr12 = np.where(sr11.isin(highFreq),highFreq[0],'Other')\n",
    "#print(sr12)"
   ]
  },
  {
   "cell_type": "markdown",
   "metadata": {},
   "source": [
    "Question 11: How to convert a numpy array to a dataframe of given shape?"
   ]
  },
  {
   "cell_type": "code",
   "execution_count": 142,
   "metadata": {},
   "outputs": [
    {
     "name": "stdout",
     "output_type": "stream",
     "text": [
      "Series elements:  0      1\n",
      "1      2\n",
      "2      3\n",
      "3      4\n",
      "4      5\n",
      "5      6\n",
      "6      7\n",
      "7      8\n",
      "8      9\n",
      "9     10\n",
      "10    11\n",
      "11    12\n",
      "12    13\n",
      "13    14\n",
      "14    15\n",
      "15    16\n",
      "16    17\n",
      "17    18\n",
      "18    19\n",
      "19    20\n",
      "20    21\n",
      "21    22\n",
      "22    23\n",
      "23    24\n",
      "24    25\n",
      "25    26\n",
      "26    27\n",
      "27    28\n",
      "28    29\n",
      "29    30\n",
      "30    31\n",
      "31    32\n",
      "32    33\n",
      "33    34\n",
      "34    35\n",
      "dtype: int64\n"
     ]
    },
    {
     "name": "stderr",
     "output_type": "stream",
     "text": [
      "/Users/mohammed_raheel/anaconda3/lib/python3.6/site-packages/ipykernel_launcher.py:6: FutureWarning: reshape is deprecated and will raise in a subsequent release. Please use .values.reshape(...) instead\n",
      "  \n"
     ]
    },
    {
     "data": {
      "text/plain": [
       "array([[ 1,  2,  3,  4,  5],\n",
       "       [ 6,  7,  8,  9, 10],\n",
       "       [11, 12, 13, 14, 15],\n",
       "       [16, 17, 18, 19, 20],\n",
       "       [21, 22, 23, 24, 25],\n",
       "       [26, 27, 28, 29, 30],\n",
       "       [31, 32, 33, 34, 35]])"
      ]
     },
     "execution_count": 142,
     "metadata": {},
     "output_type": "execute_result"
    }
   ],
   "source": [
    "# Reshape the series into a dataframe with 7 rows and 5 columns\n",
    "sr12 = pd.Series(np.arange(1,36,1))\n",
    "print('Series elements: ',sr12)\n",
    "\n",
    "# reshaping to 7 rows and 5 columns\n",
    "sr12.reshape(7,5)"
   ]
  },
  {
   "cell_type": "markdown",
   "metadata": {},
   "source": [
    "Question 12: How to find the positions of numbers that are multiples of 3 from a series?"
   ]
  },
  {
   "cell_type": "code",
   "execution_count": 152,
   "metadata": {},
   "outputs": [
    {
     "name": "stdout",
     "output_type": "stream",
     "text": [
      "index\n",
      "0      1\n",
      "1      2\n",
      "2      3\n",
      "3      4\n",
      "4      5\n",
      "5      6\n",
      "6      7\n",
      "7      8\n",
      "8      9\n",
      "9     10\n",
      "10    11\n",
      "11    12\n",
      "dtype: int64\n",
      "0    [2, 5, 8, 11]\n",
      "dtype: object\n"
     ]
    }
   ],
   "source": [
    "sr13 = pd.Series(np.arange(1,13,1))\n",
    "sr13.index.name = 'index'\n",
    "print(sr13)\n",
    "indexes = pd.Series(np.where(sr13%3==0))\n",
    "print(indexes)"
   ]
  },
  {
   "cell_type": "markdown",
   "metadata": {},
   "source": [
    "Question 13: How to stack two series vertically and horizontally ?"
   ]
  },
  {
   "cell_type": "code",
   "execution_count": 164,
   "metadata": {},
   "outputs": [
    {
     "name": "stdout",
     "output_type": "stream",
     "text": [
      "Series1:  0    1\n",
      "1    2\n",
      "2    3\n",
      "3    4\n",
      "4    5\n",
      "dtype: int64\n",
      "\n",
      "Series2:  0    21\n",
      "1    22\n",
      "2    23\n",
      "3    24\n",
      "4    25\n",
      "dtype: int64\n",
      "Vertical: \n",
      " 0     1\n",
      "1     2\n",
      "2     3\n",
      "3     4\n",
      "4     5\n",
      "0    21\n",
      "1    22\n",
      "2    23\n",
      "3    24\n",
      "4    25\n",
      "dtype: int64\n",
      "\n",
      "Horizontal: \n",
      "    0   1\n",
      "0  1  21\n",
      "1  2  22\n",
      "2  3  23\n",
      "3  4  24\n",
      "4  5  25\n"
     ]
    }
   ],
   "source": [
    "srOne = pd.Series(np.arange(1,6,1))\n",
    "srTwo = pd.Series(np.arange(21,26,1))\n",
    "print('Series1: ',srOne)\n",
    "print('\\nSeries2: ',srTwo)\n",
    "\n",
    "vertical = pd.concat([srOne,srTwo],axis=0)\n",
    "horizontal = pd.concat([srOne,srTwo],axis=1)\n",
    "\n",
    "print('Vertical: \\n',vertical)\n",
    "print('\\nHorizontal: \\n',horizontal)"
   ]
  },
  {
   "cell_type": "markdown",
   "metadata": {},
   "source": [
    "Question 14: How to get the positions of items of series A in another series B?"
   ]
  },
  {
   "cell_type": "code",
   "execution_count": 173,
   "metadata": {},
   "outputs": [
    {
     "name": "stdout",
     "output_type": "stream",
     "text": [
      "Series1:  0    1\n",
      "1    2\n",
      "2    3\n",
      "3    4\n",
      "4    5\n",
      "dtype: int64\n",
      "\n",
      "Series2:  0    3\n",
      "1    4\n",
      "2    5\n",
      "3    6\n",
      "4    7\n",
      "dtype: int64\n"
     ]
    },
    {
     "data": {
      "text/plain": [
       "0    [2, 3, 4]\n",
       "dtype: object"
      ]
     },
     "execution_count": 173,
     "metadata": {},
     "output_type": "execute_result"
    }
   ],
   "source": [
    "srThree = pd.Series(np.arange(1,6,1))\n",
    "srFour = pd.Series(np.arange(3,8,1))\n",
    "print('Series1: ',srThree)\n",
    "print('\\nSeries2: ',srFour)\n",
    "\n",
    "# as we can see, 3,4,5 are the items present in both\n",
    "pd.Series(np.where(srThree.isin(srFour)))"
   ]
  },
  {
   "cell_type": "markdown",
   "metadata": {},
   "source": [
    "Question 15: How to compute the mean squared error on a truth and predicted series?"
   ]
  },
  {
   "cell_type": "code",
   "execution_count": 180,
   "metadata": {},
   "outputs": [
    {
     "name": "stdout",
     "output_type": "stream",
     "text": [
      "mean squared eror:  0.5591276633124928\n"
     ]
    }
   ],
   "source": [
    "actual = pd.Series(np.arange(1,6,1))\n",
    "predictions = pd.Series(np.arange(1,6,1)) + np.random.random(5)\n",
    "\n",
    "mse = np.mean((predictions-actual)**2)\n",
    "print('mean squared eror: ',mse)"
   ]
  },
  {
   "cell_type": "markdown",
   "metadata": {},
   "source": [
    "Question 16: How to get the day of month, week number, day of year and day of week from a series of date strings?"
   ]
  },
  {
   "cell_type": "code",
   "execution_count": 197,
   "metadata": {},
   "outputs": [
    {
     "name": "stdout",
     "output_type": "stream",
     "text": [
      "Day of month:  0    1\n",
      "1    2\n",
      "2    3\n",
      "3    4\n",
      "4    5\n",
      "5    6\n",
      "dtype: int64\n",
      "\n",
      "Day of week:  0    53\n",
      "1     5\n",
      "2     9\n",
      "3    14\n",
      "4    19\n",
      "5    23\n",
      "dtype: int64\n",
      "\n",
      "Day of year:  0      1\n",
      "1     33\n",
      "2     63\n",
      "3     94\n",
      "4    125\n",
      "5    157\n",
      "dtype: int64\n",
      "\n",
      "Day name:  0       Friday\n",
      "1    Wednesday\n",
      "2     Saturday\n",
      "3     Thursday\n",
      "4       Monday\n",
      "5     Saturday\n",
      "dtype: object\n"
     ]
    }
   ],
   "source": [
    "from dateutil.parser import parse\n",
    "sr16 = pd.Series(['01 Jan 2010', '02-02-2011', '20120303', '2013/04/04', '2014-05-05', '2015-06-06T12:20'])\n",
    "\n",
    "# The parser can parse any known format to represent date or time\n",
    "\n",
    "sr16_map = sr16.map(lambda x: parse(x))\n",
    "\n",
    "\n",
    "print('Day of month: ',sr16_map.dt.day)\n",
    "print('\\nDay of week: ',sr16_map.dt.weekofyear)\n",
    "print('\\nDay of year: ',sr16_map.dt.dayofyear)\n",
    "print('\\nDay name: ',sr16_map.dt.weekday_name)"
   ]
  },
  {
   "cell_type": "markdown",
   "metadata": {},
   "source": [
    "Question 17: How to filter words that contain atleast 2 vowels from a series?"
   ]
  },
  {
   "cell_type": "code",
   "execution_count": 220,
   "metadata": {},
   "outputs": [
    {
     "name": "stdout",
     "output_type": "stream",
     "text": [
      "0     apple\n",
      "1    orange\n",
      "2     money\n",
      "dtype: object\n"
     ]
    }
   ],
   "source": [
    "sr17 = pd.Series(['Apple', 'Orange', 'Plan', 'Python', 'Money'])\n",
    "vowels = ['a','e','i','o','u']\n",
    "result = []\n",
    "for i in sr17:\n",
    "    i = i.lower()\n",
    "    totalVowelCount = 0\n",
    "    for j in vowels:\n",
    "        totalVowelCount += i.count(j)\n",
    "    if totalVowelCount>=2:\n",
    "        result.append(i)\n",
    "    else:\n",
    "        continue\n",
    "\n",
    "print(pd.Series(result))"
   ]
  },
  {
   "cell_type": "markdown",
   "metadata": {},
   "source": [
    "Question 18: How to filter valid emails from a series?"
   ]
  },
  {
   "cell_type": "code",
   "execution_count": 239,
   "metadata": {},
   "outputs": [
    {
     "data": {
      "text/plain": [
       "1    laker@lakers.com\n",
       "2       doej@apple.co\n",
       "3      jiku@xiomi.com\n",
       "dtype: object"
      ]
     },
     "execution_count": 239,
     "metadata": {},
     "output_type": "execute_result"
    }
   ],
   "source": [
    "import re\n",
    "emailIds = pd.Series(['buying books at flipkart.com', 'laker@lakers.com', 'doej@apple.co', 'jiku@xiomi.com'])\n",
    "pattern ='[A-Za-z0-9._%+-]+@[A-Za-z0-9.-]+\\\\.[A-Za-z]{2,4}'\n",
    "\n",
    "# re.match(pattern, x) tells whether string matches a given pattern. Here we find that the following string match the patter\n",
    "# 'laker@lakers.com', 'doej@apple.co', 'jiku@xiomi.com'\n",
    "# now we take book list so that we can supply it as index to the series\n",
    "# z = list(emailIds.map(lambda x: bool(re.match(pattern, x))))\n",
    "z = list(map(lambda x: bool(re.match(pattern,x)),emailIds))\n",
    "emailIds[z]"
   ]
  },
  {
   "cell_type": "markdown",
   "metadata": {},
   "source": [
    "Question 19: How to get the frequency of unique values in the entire dataframe?"
   ]
  },
  {
   "cell_type": "code",
   "execution_count": 289,
   "metadata": {},
   "outputs": [
    {
     "name": "stdout",
     "output_type": "stream",
     "text": [
      "   col1  col2  col3  col4\n",
      "0     3     7     4     9\n",
      "1     3     1     6     3\n",
      "2     9     9     1     9\n",
      "3     6     3     9     5\n",
      "4     1     5     5     3\n"
     ]
    },
    {
     "data": {
      "text/plain": [
       "7"
      ]
     },
     "execution_count": 289,
     "metadata": {},
     "output_type": "execute_result"
    }
   ],
   "source": [
    "df1 = pd.DataFrame(np.random.randint(1, 10, 20).reshape(-1,4), columns = ['col1','col2','col3','col4'])\n",
    "# pd.value_counts(df1.values.ravel())\n",
    "print(df1)\n",
    "len(np.unique(df1)) # number of unique elements\n"
   ]
  },
  {
   "cell_type": "markdown",
   "metadata": {},
   "source": [
    "Question 20: How to split a text column into two separate columns?"
   ]
  },
  {
   "cell_type": "code",
   "execution_count": 306,
   "metadata": {},
   "outputs": [
    {
     "name": "stdout",
     "output_type": "stream",
     "text": [
      "                          row\n",
      "0          STD, City    State\n",
      "1  33, Kolkata    West Bengal\n",
      "2   44, Chennai    Tamil Nadu\n",
      "3  40, Hyderabad    Telengana\n",
      "4  80, Bangalore    Karnataka\n",
      "\n",
      "      0           1            2\n",
      "0  STD        City        State\n",
      "1   33     Kolkata  West Bengal\n",
      "2   44     Chennai   Tamil Nadu\n",
      "3   40   Hyderabad    Telengana\n",
      "4   80   Bangalore    Karnataka\n",
      "\n",
      "Headers:  0      STD\n",
      "1     City\n",
      "2    State\n",
      "Name: 0, dtype: object\n",
      "\n",
      " 0 STD        City        State\n",
      "1  33     Kolkata  West Bengal\n",
      "2  44     Chennai   Tamil Nadu\n",
      "3  40   Hyderabad    Telengana\n",
      "4  80   Bangalore    Karnataka\n"
     ]
    }
   ],
   "source": [
    "df2 = pd.DataFrame([\"STD, City    State\",\n",
    "\"33, Kolkata    West Bengal\",\n",
    "\"44, Chennai    Tamil Nadu\",\n",
    "\"40, Hyderabad    Telengana\",\n",
    "\"80, Bangalore    Karnataka\"], columns=['row'])\n",
    "print(df2)\n",
    "\n",
    "\n",
    "# as we can see, each row either contains space or tab\n",
    "df2 = df2.row.str.split(',|    ', expand=True)\n",
    "\n",
    "print('\\n',df2)\n",
    "headers = df2.iloc[0]\n",
    "print('\\nHeaders: ', headers)\n",
    "# now remvoe first row\n",
    "df2 = df2.iloc[1:]\n",
    "df2.columns = headers\n",
    "print('\\n',df2)"
   ]
  },
  {
   "cell_type": "code",
   "execution_count": null,
   "metadata": {},
   "outputs": [],
   "source": []
  }
 ],
 "metadata": {
  "kernelspec": {
   "display_name": "Python 3",
   "language": "python",
   "name": "python3"
  },
  "language_info": {
   "codemirror_mode": {
    "name": "ipython",
    "version": 3
   },
   "file_extension": ".py",
   "mimetype": "text/x-python",
   "name": "python",
   "nbconvert_exporter": "python",
   "pygments_lexer": "ipython3",
   "version": "3.6.4"
  }
 },
 "nbformat": 4,
 "nbformat_minor": 2
}
