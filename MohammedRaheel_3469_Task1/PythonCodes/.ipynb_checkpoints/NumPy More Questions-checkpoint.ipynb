{
 "cells": [
  {
   "cell_type": "code",
   "execution_count": 1,
   "metadata": {},
   "outputs": [],
   "source": [
    "import numpy as np"
   ]
  },
  {
   "cell_type": "markdown",
   "metadata": {},
   "source": [
    "Question 1: Check version of numpy"
   ]
  },
  {
   "cell_type": "code",
   "execution_count": 5,
   "metadata": {},
   "outputs": [
    {
     "data": {
      "text/plain": [
       "'1.17.2'"
      ]
     },
     "execution_count": 5,
     "metadata": {},
     "output_type": "execute_result"
    }
   ],
   "source": [
    "np.version.version"
   ]
  },
  {
   "cell_type": "markdown",
   "metadata": {},
   "source": [
    "Question 2: How to create a boolean array?"
   ]
  },
  {
   "cell_type": "code",
   "execution_count": 8,
   "metadata": {},
   "outputs": [
    {
     "data": {
      "text/plain": [
       "array([[ True,  True,  True],\n",
       "       [ True,  True,  True],\n",
       "       [ True,  True,  True]])"
      ]
     },
     "execution_count": 8,
     "metadata": {},
     "output_type": "execute_result"
    }
   ],
   "source": [
    "bool1 = np.ones([3,3],dtype=bool)\n",
    "bool1"
   ]
  },
  {
   "cell_type": "markdown",
   "metadata": {},
   "source": [
    "Question 3: How to extract items that satisfy a given condition from 1D array?"
   ]
  },
  {
   "cell_type": "code",
   "execution_count": 9,
   "metadata": {},
   "outputs": [
    {
     "data": {
      "text/plain": [
       "array([1, 3, 5, 7, 9])"
      ]
     },
     "execution_count": 9,
     "metadata": {},
     "output_type": "execute_result"
    }
   ],
   "source": [
    "ar1 = np.array([0, 1, 2, 3, 4, 5, 6, 7, 8, 9])\n",
    "filteredAr1 = ar1[ar1%2!=0]\n",
    "filteredAr1"
   ]
  },
  {
   "cell_type": "markdown",
   "metadata": {},
   "source": [
    "Question 4: Replace all odd numbers in arr with -1"
   ]
  },
  {
   "cell_type": "code",
   "execution_count": 22,
   "metadata": {},
   "outputs": [
    {
     "data": {
      "text/plain": [
       "array([ 0, -1,  2, -1,  4, -1,  6, -1,  8, -1])"
      ]
     },
     "execution_count": 22,
     "metadata": {},
     "output_type": "execute_result"
    }
   ],
   "source": [
    "ar2 = np.array([0, 1, 2, 3, 4, 5, 6, 7, 8, 9])\n",
    "ar2[ar2%2!=0] = -1\n",
    "ar2"
   ]
  },
  {
   "cell_type": "markdown",
   "metadata": {},
   "source": [
    "Question 5: How to replace items that satisfy a condition without affecting the original array?"
   ]
  },
  {
   "cell_type": "code",
   "execution_count": 39,
   "metadata": {},
   "outputs": [
    {
     "name": "stdout",
     "output_type": "stream",
     "text": [
      "[ 0 -1  2 -1  4 -1  6 -1  8 -1]\n"
     ]
    }
   ],
   "source": [
    "ar3 = np.array([0, 1, 2, 3, 4, 5, 6, 7, 8, 9])\n",
    "ar4 = np.where(ar3 % 2 != 0, -1, ar3)\n",
    "print(ar4)"
   ]
  },
  {
   "cell_type": "markdown",
   "metadata": {},
   "source": [
    "Question 6: How to stack two arrays vertically?"
   ]
  },
  {
   "cell_type": "code",
   "execution_count": 55,
   "metadata": {},
   "outputs": [
    {
     "name": "stdout",
     "output_type": "stream",
     "text": [
      "array 1:  [[0 1 2 3 4]\n",
      " [5 6 7 8 9]]\n",
      "\n",
      "array 2:  [[20 21 22 23 24]\n",
      " [25 26 27 28 29]]\n",
      "\n",
      "Vertically stacked array:  [[ 0  1  2  3  4]\n",
      " [ 5  6  7  8  9]\n",
      " [20 21 22 23 24]\n",
      " [25 26 27 28 29]]\n"
     ]
    }
   ],
   "source": [
    "ar5 = np.arange(10).reshape(2,5)\n",
    "ar6 = np.arange(20,30,1).reshape(2,5)\n",
    "print('array 1: ',ar5)\n",
    "print('\\narray 2: ',ar6)\n",
    "concatentedArr = np.concatenate([ar5,ar6],axis=0) # Here we are suppose to pass the 2 arrays, and the axis along\n",
    "# which we are expecting to stack. Here row wise stacking we are doing.\n",
    "print('\\nVertically stacked array: ',concatentedArr)"
   ]
  },
  {
   "cell_type": "markdown",
   "metadata": {},
   "source": [
    "Question 7: How to stack two arrays horizontally?"
   ]
  },
  {
   "cell_type": "code",
   "execution_count": 56,
   "metadata": {},
   "outputs": [
    {
     "name": "stdout",
     "output_type": "stream",
     "text": [
      "array 1:  [[0 1 2 3 4]\n",
      " [5 6 7 8 9]]\n",
      "\n",
      "array 2:  [[20 21 22 23 24]\n",
      " [25 26 27 28 29]]\n",
      "\n",
      "Vertically stacked array:  [[ 0  1  2  3  4 20 21 22 23 24]\n",
      " [ 5  6  7  8  9 25 26 27 28 29]]\n"
     ]
    }
   ],
   "source": [
    "ar8 = np.arange(10).reshape(2,5)\n",
    "ar9 = np.arange(20,30,1).reshape(2,5)\n",
    "print('array 1: ',ar8)\n",
    "print('\\narray 2: ',ar9)\n",
    "concatentedArr = np.concatenate([ar8,ar9],axis=1) # Here we are suppose to pass the 2 arrays, and the axis along\n",
    "# which we are expecting to stack. Here column wise stacking we are doing.\n",
    "print('\\nVertically stacked array: ',concatentedArr)"
   ]
  },
  {
   "cell_type": "markdown",
   "metadata": {},
   "source": [
    "Question 8 : How to get the common items between two python numpy arrays?"
   ]
  },
  {
   "cell_type": "code",
   "execution_count": 60,
   "metadata": {},
   "outputs": [
    {
     "name": "stdout",
     "output_type": "stream",
     "text": [
      "<class 'numpy.ndarray'>\n",
      "[5]\n"
     ]
    }
   ],
   "source": [
    "ar10 = np.array([1,2,3,4,5,6],dtype=int)\n",
    "ar11 = np.array([7,8,9,5,10,11],dtype=int)\n",
    "x = np.intersect1d(ar10,ar11)\n",
    "print(type(x))\n",
    "print(x)"
   ]
  },
  {
   "cell_type": "markdown",
   "metadata": {},
   "source": [
    "Question 9: How to remove from one array those items that exist in another?"
   ]
  },
  {
   "cell_type": "code",
   "execution_count": 67,
   "metadata": {},
   "outputs": [
    {
     "name": "stdout",
     "output_type": "stream",
     "text": [
      "[1 2 3 4]\n"
     ]
    }
   ],
   "source": [
    "ar12 = np.array([1,2,3,4,5,6],dtype=int)\n",
    "ar13 = np.array([7,8,9,5,10,6],dtype=int)\n",
    "diff = np.setdiff1d(ar12,ar13)\n",
    "print(diff)"
   ]
  },
  {
   "cell_type": "markdown",
   "metadata": {},
   "source": [
    "Question 10: How to get the positions where elements of two arrays match?"
   ]
  },
  {
   "cell_type": "code",
   "execution_count": 70,
   "metadata": {},
   "outputs": [
    {
     "data": {
      "text/plain": [
       "(array([4, 5]),)"
      ]
     },
     "execution_count": 70,
     "metadata": {},
     "output_type": "execute_result"
    }
   ],
   "source": [
    "ar14 = np.array([1,2,3,4,5,6],dtype=int)\n",
    "ar15 = np.array([7,8,9,10,5,6],dtype=int)\n",
    "np.where(ar14 == ar15)"
   ]
  },
  {
   "cell_type": "markdown",
   "metadata": {},
   "source": [
    "Question 11: How to extract all numbers between a given range from a numpy array?"
   ]
  },
  {
   "cell_type": "code",
   "execution_count": 78,
   "metadata": {},
   "outputs": [
    {
     "data": {
      "text/plain": [
       "array([ 6,  9, 10])"
      ]
     },
     "execution_count": 78,
     "metadata": {},
     "output_type": "execute_result"
    }
   ],
   "source": [
    "ar16 = np.array([2, 6, 1, 9, 10, 3, 27])\n",
    "filteredAr16 = ar16[(ar16>=5) & (ar16<=10)]\n",
    "filteredAr16"
   ]
  },
  {
   "cell_type": "markdown",
   "metadata": {},
   "source": [
    "Question 12: How to swap two columns in a 2d numpy array?"
   ]
  },
  {
   "cell_type": "code",
   "execution_count": 82,
   "metadata": {},
   "outputs": [
    {
     "name": "stdout",
     "output_type": "stream",
     "text": [
      "Original array:  [[0 1 2]\n",
      " [3 4 5]\n",
      " [6 7 8]]\n"
     ]
    },
    {
     "data": {
      "text/plain": [
       "array([[1, 0, 2],\n",
       "       [4, 3, 5],\n",
       "       [7, 6, 8]])"
      ]
     },
     "execution_count": 82,
     "metadata": {},
     "output_type": "execute_result"
    }
   ],
   "source": [
    "ar17 = np.arange(9).reshape(3,3)\n",
    "print('Original array: ',ar17)\n",
    "ar17[:,[1,0,2]]"
   ]
  },
  {
   "cell_type": "markdown",
   "metadata": {},
   "source": [
    "Question 13: How to swap two columns in a 2d numpy array?"
   ]
  },
  {
   "cell_type": "code",
   "execution_count": 83,
   "metadata": {},
   "outputs": [
    {
     "name": "stdout",
     "output_type": "stream",
     "text": [
      "Original array:  [[0 1 2]\n",
      " [3 4 5]\n",
      " [6 7 8]]\n"
     ]
    },
    {
     "data": {
      "text/plain": [
       "array([[3, 4, 5],\n",
       "       [0, 1, 2],\n",
       "       [6, 7, 8]])"
      ]
     },
     "execution_count": 83,
     "metadata": {},
     "output_type": "execute_result"
    }
   ],
   "source": [
    "ar18 = np.arange(9).reshape(3,3)\n",
    "print('Original array: ',ar18)\n",
    "ar18[[1,0,2],:]"
   ]
  },
  {
   "cell_type": "markdown",
   "metadata": {},
   "source": [
    "Question 14: How to reverse the rows of a 2D array?"
   ]
  },
  {
   "cell_type": "code",
   "execution_count": 89,
   "metadata": {},
   "outputs": [
    {
     "name": "stdout",
     "output_type": "stream",
     "text": [
      "Original array:  [[0 1 2]\n",
      " [3 4 5]\n",
      " [6 7 8]]\n"
     ]
    },
    {
     "data": {
      "text/plain": [
       "array([[6, 7, 8],\n",
       "       [3, 4, 5],\n",
       "       [0, 1, 2]])"
      ]
     },
     "execution_count": 89,
     "metadata": {},
     "output_type": "execute_result"
    }
   ],
   "source": [
    "ar19 = np.arange(9).reshape(3,3)\n",
    "print('Original array: ',ar19)\n",
    "ar19[::-1]"
   ]
  },
  {
   "cell_type": "markdown",
   "metadata": {},
   "source": [
    "Question 15: How to reverse the columns of a 2D array?"
   ]
  },
  {
   "cell_type": "code",
   "execution_count": 102,
   "metadata": {},
   "outputs": [
    {
     "name": "stdout",
     "output_type": "stream",
     "text": [
      "Original array:  [[0 1 2]\n",
      " [3 4 5]\n",
      " [6 7 8]]\n"
     ]
    },
    {
     "data": {
      "text/plain": [
       "array([[2, 1, 0],\n",
       "       [5, 4, 3],\n",
       "       [8, 7, 6]])"
      ]
     },
     "execution_count": 102,
     "metadata": {},
     "output_type": "execute_result"
    }
   ],
   "source": [
    "ar19 = np.arange(9).reshape(3,3)\n",
    "print('Original array: ',ar19)\n",
    "ar19[:,2::-1]"
   ]
  },
  {
   "cell_type": "markdown",
   "metadata": {},
   "source": [
    "Question 16: Find the mean, median, standard deviation of iris’s sepal length (1st column)"
   ]
  },
  {
   "cell_type": "code",
   "execution_count": 111,
   "metadata": {},
   "outputs": [
    {
     "name": "stdout",
     "output_type": "stream",
     "text": [
      "<class 'numpy.ndarray'>\n",
      "Mean:  5.843333333333334\n",
      "Median:  5.8\n",
      "Standard Deviation:  0.8253012917851409\n"
     ]
    }
   ],
   "source": [
    "url = 'https://archive.ics.uci.edu/ml/machine-learning-databases/iris/iris.data'\n",
    "\n",
    "# To get the complete data\n",
    "data = np.genfromtxt(url, delimiter=',', dtype='object')\n",
    "\n",
    "# To specifically get only sepal length\n",
    "sepallength = np.genfromtxt(url, delimiter=',', dtype='float', usecols=[0])\n",
    "print(type(sepallength))\n",
    "\n",
    "# Mean\n",
    "meanX = np.mean(sepallength)\n",
    "medianX = np.median(sepallength)\n",
    "stdX = np.std(sepallength)\n",
    "print('Mean: ',meanX)\n",
    "print('Median: ',medianX)\n",
    "print('Standard Deviation: ',stdX)"
   ]
  },
  {
   "cell_type": "markdown",
   "metadata": {},
   "source": [
    "Question 17: How to filter a numpy array based on two or more conditions?"
   ]
  },
  {
   "cell_type": "code",
   "execution_count": 127,
   "metadata": {},
   "outputs": [
    {
     "name": "stdout",
     "output_type": "stream",
     "text": [
      "[[0 1 2 3 4]\n",
      " [5 6 7 8 9]]\n"
     ]
    },
    {
     "data": {
      "text/plain": [
       "array([3, 4, 5, 6, 7])"
      ]
     },
     "execution_count": 127,
     "metadata": {},
     "output_type": "execute_result"
    }
   ],
   "source": [
    "ar20 = np.arange(10).reshape(2,5)\n",
    "print(ar20)\n",
    "\n",
    "ar20[(ar20>=3) & (ar20<=7)]"
   ]
  },
  {
   "cell_type": "markdown",
   "metadata": {},
   "source": [
    "Question 18: How to find the correlation between two columns of a numpy array?"
   ]
  },
  {
   "cell_type": "code",
   "execution_count": 154,
   "metadata": {},
   "outputs": [
    {
     "data": {
      "text/plain": [
       "array([[1.        , 0.61668505],\n",
       "       [0.61668505, 1.        ]])"
      ]
     },
     "execution_count": 154,
     "metadata": {},
     "output_type": "execute_result"
    }
   ],
   "source": [
    "ar1 = np.arange(1,11)\n",
    "ar2 = ar1 + x + np.random.normal(0, 10, 10)\n",
    "np.corrcoef(ar1,ar2)"
   ]
  },
  {
   "cell_type": "markdown",
   "metadata": {},
   "source": [
    "Question 19: How to sort a 2D array by a column"
   ]
  },
  {
   "cell_type": "code",
   "execution_count": 165,
   "metadata": {},
   "outputs": [
    {
     "name": "stdout",
     "output_type": "stream",
     "text": [
      "Original array:  [[28 43 80]\n",
      " [93 11 28]\n",
      " [61 94 57]]\n",
      "\n",
      "Sorted by column3:  [[93 11 28]\n",
      " [61 94 57]\n",
      " [28 43 80]]\n"
     ]
    }
   ],
   "source": [
    "ar21 = np.array([[28,43,80],[93,11,28],[61,94,57]])\n",
    "print('Original array: ',ar21)\n",
    "# lets sort the above array using third column (=2)\n",
    "srtdArray21 = ar21[ar21[:,2].argsort()]\n",
    "print('\\nSorted by column3: ',srtdArray21)"
   ]
  },
  {
   "cell_type": "markdown",
   "metadata": {},
   "source": [
    "Question 20: How to generate custom sequences in numpy without hardcoding?"
   ]
  },
  {
   "cell_type": "code",
   "execution_count": 172,
   "metadata": {},
   "outputs": [
    {
     "name": "stdout",
     "output_type": "stream",
     "text": [
      "pattern 1:  [1 1 1 2 2 2 3 3 3 4 4 4 5 5 5]\n",
      "pattern 2: [1 2 3 4 5 1 2 3 4 5 1 2 3 4 5]\n"
     ]
    }
   ],
   "source": [
    "ar22 = np.array([1,2,3,4,5])\n",
    "\n",
    "# To generate pattern 1,1,1,2,2,2,3,3,3\n",
    "x = np.repeat(ar22,3)\n",
    "print('pattern 1: ',x)\n",
    "# To generate pattern 1,2,3,1,2,3,1,2,3\n",
    "y = np.tile(ar22,3)\n",
    "print('pattern 2:',y)"
   ]
  },
  {
   "cell_type": "code",
   "execution_count": null,
   "metadata": {},
   "outputs": [],
   "source": []
  }
 ],
 "metadata": {
  "kernelspec": {
   "display_name": "Python 3",
   "language": "python",
   "name": "python3"
  },
  "language_info": {
   "codemirror_mode": {
    "name": "ipython",
    "version": 3
   },
   "file_extension": ".py",
   "mimetype": "text/x-python",
   "name": "python",
   "nbconvert_exporter": "python",
   "pygments_lexer": "ipython3",
   "version": "3.6.4"
  }
 },
 "nbformat": 4,
 "nbformat_minor": 2
}
