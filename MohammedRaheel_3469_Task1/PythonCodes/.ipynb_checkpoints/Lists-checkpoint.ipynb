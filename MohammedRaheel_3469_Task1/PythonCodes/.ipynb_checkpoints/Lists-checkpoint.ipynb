{
 "cells": [
  {
   "cell_type": "markdown",
   "metadata": {},
   "source": [
    "Exercise Question 1: Given a Python list you should be able to display Python list in the reverse order"
   ]
  },
  {
   "cell_type": "code",
   "execution_count": 3,
   "metadata": {},
   "outputs": [
    {
     "name": "stdout",
     "output_type": "stream",
     "text": [
      "Original list:  [100, 200, 300, 400, 500]\n",
      "Reverese list:  [500, 400, 300, 200, 100]\n"
     ]
    }
   ],
   "source": [
    "lst1 = [100, 200, 300, 400, 500]\n",
    "print('Original list: ',lst1)\n",
    "print('Reverese list: ',lst1[::-1])"
   ]
  },
  {
   "cell_type": "markdown",
   "metadata": {},
   "source": [
    "Exercise Question 2: Concatenate two lists index-wise"
   ]
  },
  {
   "cell_type": "code",
   "execution_count": 13,
   "metadata": {},
   "outputs": [
    {
     "name": "stdout",
     "output_type": "stream",
     "text": [
      "['My', 'name', 'is', 'Kelly']\n"
     ]
    }
   ],
   "source": [
    "lst2 = [\"M\", \"na\", \"i\", \"Ke\"]\n",
    "lst3 = [\"y\", \"me\", \"s\", \"lly\"]\n",
    "\n",
    "# Iterating both lists once\n",
    "lst4 = [i+j for i,j in zip(lst2,lst3) if len(lst2) and len(lst3) > 0]\n",
    "print(lst4)"
   ]
  },
  {
   "cell_type": "markdown",
   "metadata": {},
   "source": [
    "Exercise Question 3: Given a Python list. Turn every item of a list into its square"
   ]
  },
  {
   "cell_type": "code",
   "execution_count": 19,
   "metadata": {},
   "outputs": [
    {
     "name": "stdout",
     "output_type": "stream",
     "text": [
      "Original list:\n",
      " [1, 2, 3, 4, 5, 6, 7]\n",
      "Square of list:\n",
      " [1, 4, 9, 16, 25, 36, 49]\n",
      "Square Root of list:\n",
      " [1.0, 1.4142135623730951, 1.7320508075688772, 2.0, 2.23606797749979, 2.449489742783178, 2.6457513110645907]\n"
     ]
    }
   ],
   "source": [
    "from math import sqrt\n",
    "lst5 = [1, 2, 3, 4, 5, 6, 7]\n",
    "print('Original list:\\n',lst5)\n",
    "squareList = [i*i for i in lst5]\n",
    "print('Square of list:\\n',squareList)\n",
    "sqRootLst5 = [sqrt(i) for i in lst5]\n",
    "print('Square Root of list:\\n',sqRootLst5)"
   ]
  },
  {
   "cell_type": "markdown",
   "metadata": {},
   "source": [
    "Exercise Question 4: Concatenate two lists in the following order"
   ]
  },
  {
   "cell_type": "code",
   "execution_count": 25,
   "metadata": {},
   "outputs": [
    {
     "name": "stdout",
     "output_type": "stream",
     "text": [
      "['Hello Dear', 'Hello Sir', 'take Dear', 'take Sir']\n"
     ]
    }
   ],
   "source": [
    "lst6 = [\"Hello \", \"take \"]\n",
    "lst7 = [\"Dear\", \"Sir\"]\n",
    "lst8 = [i+j for i in lst6 for j in lst7]\n",
    "print(lst8)"
   ]
  },
  {
   "cell_type": "markdown",
   "metadata": {},
   "source": [
    "Exercise Question 5: Given a two Python list. Iterate both lists simultaneously such that list1 should display item in original order and list2 in reverse order"
   ]
  },
  {
   "cell_type": "code",
   "execution_count": 27,
   "metadata": {},
   "outputs": [
    {
     "name": "stdout",
     "output_type": "stream",
     "text": [
      "10 400\n",
      "20 300\n",
      "30 200\n",
      "40 100\n"
     ]
    }
   ],
   "source": [
    "lst9 = [10, 20, 30, 40]\n",
    "lst10 = [100, 200, 300, 400]\n",
    "\n",
    "for i,j in zip(lst9,lst10[::-1]):\n",
    "    print(i,j)"
   ]
  },
  {
   "cell_type": "markdown",
   "metadata": {},
   "source": [
    "Exercise Question 6: Remove empty strings from the list of strings"
   ]
  },
  {
   "cell_type": "code",
   "execution_count": 30,
   "metadata": {},
   "outputs": [
    {
     "name": "stdout",
     "output_type": "stream",
     "text": [
      "['Mike', 'Emma', 'Kelly', 'Brad']\n"
     ]
    }
   ],
   "source": [
    "lst11 = [\"Mike\", \"\", \"Emma\", \"Kelly\", \"\", \"Brad\"]\n",
    "\n",
    "# Remove the all ocurences of empty strings\n",
    "numeberOfEmptyStr = lst11.count('')\n",
    "while numeberOfEmptyStr!=0:\n",
    "    lst11.remove('')\n",
    "    numeberOfEmptyStr-=1\n",
    "\n",
    "print(lst11)"
   ]
  },
  {
   "cell_type": "markdown",
   "metadata": {},
   "source": [
    "Exercise Question 7: Add item 7000 after 6000 in the following Python List"
   ]
  },
  {
   "cell_type": "code",
   "execution_count": 50,
   "metadata": {},
   "outputs": [
    {
     "name": "stdout",
     "output_type": "stream",
     "text": [
      "Original list:\n",
      " [10, 20, [300, 400, [5000, 6000], 500], 30, 40]\n",
      "Updated list:\n",
      " [10, 20, [300, 400, [5000, 6000, 7000], 500], 30, 40]\n"
     ]
    }
   ],
   "source": [
    "lst12 = [10, 20, [300, 400, [5000, 6000], 500], 30, 40]\n",
    "print('Original list:\\n',lst12)\n",
    "# 6000 resides in a list which is nested twice. Therefore need 3 levels to acces 6000\n",
    "access6000 = lst12[2][2][1]\n",
    "# Insert 7000 after 6000. Therefore use append to insert at end of this list\n",
    "lst12[2][2].append(7000)\n",
    "print('Updated list:\\n',lst12)"
   ]
  },
  {
   "cell_type": "markdown",
   "metadata": {},
   "source": [
    "Exercise Question 8: Given a nested list extend it with adding sub list [\"h\", \"i\", \"j\"] in a such a way that it will look like the following list"
   ]
  },
  {
   "cell_type": "code",
   "execution_count": 52,
   "metadata": {},
   "outputs": [
    {
     "name": "stdout",
     "output_type": "stream",
     "text": [
      "Original list:\n",
      " ['a', 'b', ['c', ['d', 'e', ['f', 'g'], 'k'], 'l'], 'm', 'n']\n",
      "Updated list:\n",
      " ['a', 'b', ['c', ['d', 'e', ['f', 'g', 'h', 'i', 'j'], 'k'], 'l'], 'm', 'n']\n"
     ]
    }
   ],
   "source": [
    "lst13 = [\"a\", \"b\", [\"c\", [\"d\", \"e\", [\"f\", \"g\"], \"k\"], \"l\"], \"m\", \"n\"]\n",
    "lst14 = [\"h\", \"i\", \"j\"]\n",
    "print('Original list:\\n',lst13)\n",
    "lst13[2][1][2].extend(lst14)\n",
    "print('Updated list:\\n',lst13)"
   ]
  },
  {
   "cell_type": "markdown",
   "metadata": {},
   "source": [
    "Exercise Question 9: Given a Python list, find value 20 in the list, and if it is present, replace it with 200. Only update the first occurrence of a value"
   ]
  },
  {
   "cell_type": "code",
   "execution_count": 63,
   "metadata": {},
   "outputs": [
    {
     "name": "stdout",
     "output_type": "stream",
     "text": [
      "Original list:\n",
      " [5, 10, 15, 20, 25, 50, 20]\n",
      "After replacing first occurence of 20:\n",
      "[5, 10, 15, 200, 25, 50, 20]\n"
     ]
    }
   ],
   "source": [
    "lst15 = [5, 10, 15, 20, 25, 50, 20]\n",
    "elem = 20\n",
    "index = 0\n",
    "replaceNum = 200\n",
    "print('Original list:\\n',lst15)\n",
    "# Check once if number exists\n",
    "if lst15.count(elem) != 0:\n",
    "    index = lst15.index(elem)\n",
    "    lst15[index] = replaceNum\n",
    "print('After replacing first occurence of {0}:\\n{1}'.format(elem,lst15))"
   ]
  },
  {
   "cell_type": "markdown",
   "metadata": {},
   "source": [
    "Exercise Question 10: Given a Python list, remove all occurrence of 20 from the list"
   ]
  },
  {
   "cell_type": "code",
   "execution_count": 67,
   "metadata": {},
   "outputs": [
    {
     "name": "stdout",
     "output_type": "stream",
     "text": [
      "Original list:\n",
      " [5, 20, 15, 20, 25, 50, 20]\n",
      "After replacing first occurence of 20:\n",
      "[5, 15, 25, 50]\n"
     ]
    }
   ],
   "source": [
    "lst16 = [5, 20, 15, 20, 25, 50, 20]\n",
    "elem = 20\n",
    "occurence = lst16.count(elem)\n",
    "print('Original list:\\n',lst16)\n",
    "# Check once if number exists\n",
    "while occurence != 0:\n",
    "    lst16.remove(elem)\n",
    "    occurence-=1\n",
    "print('After replacing first occurence of {0}:\\n{1}'.format(elem,lst16))"
   ]
  },
  {
   "cell_type": "code",
   "execution_count": null,
   "metadata": {},
   "outputs": [],
   "source": []
  }
 ],
 "metadata": {
  "kernelspec": {
   "display_name": "Python 3",
   "language": "python",
   "name": "python3"
  },
  "language_info": {
   "codemirror_mode": {
    "name": "ipython",
    "version": 3
   },
   "file_extension": ".py",
   "mimetype": "text/x-python",
   "name": "python",
   "nbconvert_exporter": "python",
   "pygments_lexer": "ipython3",
   "version": "3.6.4"
  }
 },
 "nbformat": 4,
 "nbformat_minor": 2
}
