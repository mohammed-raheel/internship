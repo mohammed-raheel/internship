{
 "cells": [
  {
   "cell_type": "markdown",
   "metadata": {},
   "source": [
    "Exercise Question 1: Print First 10 natural numbers using while loop"
   ]
  },
  {
   "cell_type": "code",
   "execution_count": 1,
   "metadata": {},
   "outputs": [
    {
     "name": "stdout",
     "output_type": "stream",
     "text": [
      "1\n",
      "2\n",
      "3\n",
      "4\n",
      "5\n",
      "6\n",
      "7\n",
      "8\n",
      "9\n",
      "10\n"
     ]
    }
   ],
   "source": [
    "start = 1\n",
    "end = 10\n",
    "while start<=end:\n",
    "    print(start)\n",
    "    start+=1"
   ]
  },
  {
   "cell_type": "markdown",
   "metadata": {},
   "source": [
    "Exercise Question 2: Print the following pattern\n",
    "1 \n",
    "1 2 \n",
    "1 2 3 \n",
    "1 2 3 4 \n",
    "1 2 3 4 5"
   ]
  },
  {
   "cell_type": "code",
   "execution_count": 14,
   "metadata": {},
   "outputs": [
    {
     "name": "stdout",
     "output_type": "stream",
     "text": [
      "1 \n",
      "\n",
      "1 2 \n",
      "\n",
      "1 2 3 \n",
      "\n",
      "1 2 3 4 \n",
      "\n",
      "1 2 3 4 5 \n",
      "\n"
     ]
    }
   ],
   "source": [
    "numTimesToPrint = [1,2,3,4,5]\n",
    "\n",
    "for i in range(1,6):\n",
    "    for j in range(1,i+1):\n",
    "        print(j, end=\" \")\n",
    "    print('\\n')"
   ]
  },
  {
   "cell_type": "markdown",
   "metadata": {},
   "source": [
    "Exercise Question 3: Accept n number from user and calculate the sum of all number between 1 and n including n"
   ]
  },
  {
   "cell_type": "code",
   "execution_count": 19,
   "metadata": {},
   "outputs": [
    {
     "name": "stdout",
     "output_type": "stream",
     "text": [
      "Enter a number greater or equal to 1: 10\n",
      "the sum of all number between 1 and 10 is 55\n"
     ]
    }
   ],
   "source": [
    "numOfElements = int(input('Enter a number greater or equal to 1: '))\n",
    "total = 0\n",
    "if numOfElements>0:\n",
    "    for i in range(1,numOfElements+1):\n",
    "        total = i + total\n",
    "    print('the sum of all number between {0} and {1} is {2}'.format(1,numOfElements,total))\n",
    "else:\n",
    "    print('Enter a number greater or equal to 1')"
   ]
  },
  {
   "cell_type": "markdown",
   "metadata": {},
   "source": [
    "Exercise Question 4: Accept n number from user and print its multiplication table"
   ]
  },
  {
   "cell_type": "code",
   "execution_count": 23,
   "metadata": {},
   "outputs": [
    {
     "name": "stdout",
     "output_type": "stream",
     "text": [
      "Enter a valid number: 2\n",
      "2\n",
      "4\n",
      "6\n",
      "8\n",
      "10\n",
      "12\n",
      "14\n",
      "16\n",
      "18\n",
      "20\n"
     ]
    }
   ],
   "source": [
    "numToGenerateTable = int(input('Enter a valid number: '))\n",
    "for i in range(1,11):\n",
    "    print(i*numToGenerateTable)"
   ]
  },
  {
   "cell_type": "markdown",
   "metadata": {},
   "source": [
    "Exercise Question 5: Given a list iterate it and display numbers which are divisible by 5 and if you find number greater than 120 stop the loop iteration"
   ]
  },
  {
   "cell_type": "code",
   "execution_count": 27,
   "metadata": {},
   "outputs": [
    {
     "name": "stdout",
     "output_type": "stream",
     "text": [
      "5 10 15 25 50 60 80 95 105 110 115 "
     ]
    }
   ],
   "source": [
    "a = [1,2,5,9,10,13,15,25,48,50,60,64,78,80,92,95,105,110,115,121,125,130]\n",
    "for i in a:\n",
    "    if i<120 and i%5==0:\n",
    "        print(i,end=\" \")\n",
    "    elif i<120 and i%5!=0:\n",
    "        continue\n",
    "    else:\n",
    "        break"
   ]
  },
  {
   "cell_type": "markdown",
   "metadata": {},
   "source": [
    "Exercise Question 6: Given a number count the total number of digits in a number"
   ]
  },
  {
   "cell_type": "code",
   "execution_count": 39,
   "metadata": {},
   "outputs": [
    {
     "name": "stdout",
     "output_type": "stream",
     "text": [
      "Enter a number: 2342\n",
      "4\n"
     ]
    }
   ],
   "source": [
    "numToFindLen = int(input('Enter a number: '))\n",
    "count=0\n",
    "# solution 1\n",
    "#stringRepOfNum = str(numToFindLen)\n",
    "#print(len(stringRepOfNum))\n",
    "\n",
    "# solution 2\n",
    "while numToFindLen!=0:\n",
    "    #numToFindLen = numToFindLen//10 # floor division\n",
    "    numToFindLen = int(numToFindLen/10) \n",
    "    count+=1\n",
    "print(count)"
   ]
  },
  {
   "cell_type": "markdown",
   "metadata": {},
   "source": [
    "Exercise Question 7: Print the following pattern using for loop\n",
    "5 4 3 2 1 \n",
    "4 3 2 1 \n",
    "3 2 1 \n",
    "2 1 \n",
    "1"
   ]
  },
  {
   "cell_type": "code",
   "execution_count": 4,
   "metadata": {},
   "outputs": [
    {
     "name": "stdout",
     "output_type": "stream",
     "text": [
      "5 4 3 2 1 \n",
      "\n",
      "4 3 2 1 \n",
      "\n",
      "3 2 1 \n",
      "\n",
      "2 1 \n",
      "\n",
      "1 \n",
      "\n"
     ]
    }
   ],
   "source": [
    "for i in range(5,0,-1):\n",
    "    count = i\n",
    "    while count > 0:\n",
    "        print(count, end=\" \")\n",
    "        count-=1\n",
    "    print('\\n')"
   ]
  },
  {
   "cell_type": "markdown",
   "metadata": {},
   "source": [
    "Exercise Question 8: Reverse the following list using for loop\n",
    "list1 = [10, 20, 30, 40, 50]"
   ]
  },
  {
   "cell_type": "code",
   "execution_count": 3,
   "metadata": {},
   "outputs": [
    {
     "name": "stdout",
     "output_type": "stream",
     "text": [
      "[70, 60, 50, 40, 30, 20, 10]\n"
     ]
    }
   ],
   "source": [
    "lst1=[10,20,30,40,50,60,70]\n",
    "startIndex=0\n",
    "endIndex=len(lst1)-1\n",
    "moveBy=1\n",
    "tempElem=0\n",
    "\n",
    "while startIndex!=endIndex:\n",
    "    \n",
    "    if startIndex<=endIndex:\n",
    "        tempElem=lst1[startIndex]\n",
    "        lst1[startIndex]=lst1[endIndex]\n",
    "        lst1[endIndex]=tempElem\n",
    "        startIndex+=moveBy\n",
    "        endIndex-=moveBy\n",
    "    else:\n",
    "        break\n",
    "\n",
    "print(lst1)\n",
    "    "
   ]
  },
  {
   "cell_type": "markdown",
   "metadata": {},
   "source": [
    "Exercise Question 9: Display -10 to -1 using for loop"
   ]
  },
  {
   "cell_type": "code",
   "execution_count": 4,
   "metadata": {},
   "outputs": [
    {
     "name": "stdout",
     "output_type": "stream",
     "text": [
      "-10\n",
      "-9\n",
      "-8\n",
      "-7\n",
      "-6\n",
      "-5\n",
      "-4\n",
      "-3\n",
      "-2\n",
      "-1\n"
     ]
    }
   ],
   "source": [
    "# starting from -10, increamenting in step size of 1\n",
    "for i in range(-10,0,1):\n",
    "    print(i)"
   ]
  },
  {
   "cell_type": "markdown",
   "metadata": {},
   "source": [
    "Exercise Question 10: Display a message “Done” after successful execution of for loop"
   ]
  },
  {
   "cell_type": "code",
   "execution_count": 6,
   "metadata": {},
   "outputs": [
    {
     "name": "stdout",
     "output_type": "stream",
     "text": [
      "0\n",
      "1\n",
      "2\n",
      "3\n",
      "4\n",
      "Done!\n"
     ]
    }
   ],
   "source": [
    "for i in range(5):\n",
    "    print(i)\n",
    "print('Done!')"
   ]
  },
  {
   "cell_type": "code",
   "execution_count": null,
   "metadata": {},
   "outputs": [],
   "source": []
  }
 ],
 "metadata": {
  "kernelspec": {
   "display_name": "Python 3",
   "language": "python",
   "name": "python3"
  },
  "language_info": {
   "codemirror_mode": {
    "name": "ipython",
    "version": 3
   },
   "file_extension": ".py",
   "mimetype": "text/x-python",
   "name": "python",
   "nbconvert_exporter": "python",
   "pygments_lexer": "ipython3",
   "version": "3.6.4"
  }
 },
 "nbformat": 4,
 "nbformat_minor": 2
}
