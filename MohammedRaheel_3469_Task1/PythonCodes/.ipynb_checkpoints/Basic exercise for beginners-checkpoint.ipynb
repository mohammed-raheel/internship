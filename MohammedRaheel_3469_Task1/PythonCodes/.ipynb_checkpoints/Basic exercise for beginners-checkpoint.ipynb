{
 "cells": [
  {
   "cell_type": "markdown",
   "metadata": {},
   "source": [
    "Question 1: Accept two int values from the user and return their product. \n",
    "If the product is greater than 1000, then return their sum"
   ]
  },
  {
   "cell_type": "code",
   "execution_count": 7,
   "metadata": {},
   "outputs": [
    {
     "name": "stdout",
     "output_type": "stream",
     "text": [
      "Enter first number10\n",
      "Enter second number20\n",
      "the product of 10 and 20 is: 200\n"
     ]
    }
   ],
   "source": [
    "# raw_inputL in python2\n",
    "num1 = input('Enter first number')\n",
    "num2 = input('Enter second number')\n",
    "\n",
    "# Check if user has numeric value\n",
    "if num1.isnumeric() and num2.isnumeric():\n",
    "    num1 = int(num1)\n",
    "    num2 = int(num2)\n",
    "    prod = num1*num2\n",
    "    if prod>1000:\n",
    "        print('the sum of {0} and {1} is: {2}'.format(num1,num2,num1+num2))\n",
    "    else:\n",
    "        print('the product of {0} and {1} is: {2}'.format(num1,num2,num1*num2))\n",
    "else:\n",
    "    print('Only numeric values permitted')"
   ]
  },
  {
   "cell_type": "markdown",
   "metadata": {},
   "source": [
    "######################################"
   ]
  },
  {
   "cell_type": "markdown",
   "metadata": {},
   "source": [
    "Question 2: Given a range of numbers. Iterate from o^th number to the end number and print the sum of the current number and previous number"
   ]
  },
  {
   "cell_type": "markdown",
   "metadata": {},
   "source": [
    "numbers = range(1,10)\n",
    "previousElement = 0\n",
    "for current in numbers:\n",
    "    sum = current + previousElement\n",
    "    print('the sum of {0} and {1} is: {2}'.format(current,previousElement,sum))\n",
    "    previousElement = current"
   ]
  },
  {
   "cell_type": "markdown",
   "metadata": {},
   "source": [
    "####################################"
   ]
  },
  {
   "cell_type": "markdown",
   "metadata": {},
   "source": [
    "Question 3: Accept string from the user and display only those characters which are present at an even index"
   ]
  },
  {
   "cell_type": "code",
   "execution_count": 15,
   "metadata": {},
   "outputs": [
    {
     "name": "stdout",
     "output_type": "stream",
     "text": [
      "Enter a string: hello\n",
      "hlo\n"
     ]
    }
   ],
   "source": [
    "acceptedInput = input('Enter a string: ')\n",
    "# Check string is not empty\n",
    "if len(acceptedInput)>0:\n",
    "    print(acceptedInput[0::2])\n",
    "else:\n",
    "    print('You have not entered a string')"
   ]
  },
  {
   "cell_type": "markdown",
   "metadata": {},
   "source": [
    "Question 4: Given a string and an int n, remove characters from a string starting from zero up to n and return a new string"
   ]
  },
  {
   "cell_type": "code",
   "execution_count": 30,
   "metadata": {},
   "outputs": [
    {
     "name": "stdout",
     "output_type": "stream",
     "text": [
      "Original string: hello\n",
      "Modified string: lo\n"
     ]
    }
   ],
   "source": [
    "#acceptedInput1 = input('Enter a string: ')\n",
    "#acceptedInput2 = input('Enter a number: ')\n",
    "\n",
    "def subString(original,placesToTruncate):\n",
    "    if original.isalpha():\n",
    "        print('Original string: {0}'.format(original))\n",
    "        print('Modified string: {0}'.format(original[3:]))\n",
    "    else:\n",
    "        print('Enter the required details correctly')\n",
    "        \n",
    "subString('hello',12)"
   ]
  },
  {
   "cell_type": "markdown",
   "metadata": {},
   "source": [
    "Question 5: Given a list of ints, return True if first and last number of a list is same"
   ]
  },
  {
   "cell_type": "code",
   "execution_count": 50,
   "metadata": {},
   "outputs": [
    {
     "name": "stdout",
     "output_type": "stream",
     "text": [
      "First and last elements of list not same\n",
      "In LstOne: False\n",
      "In LstTwo: True\n"
     ]
    }
   ],
   "source": [
    "lstOne = [1,2,3,4,5,6]\n",
    "lstTwo = [1,2,3,4,5,1]\n",
    "\n",
    "def firstLastEqual(listOne):\n",
    "    lastIndex = len(listOne)-1\n",
    "    if listOne[0]==listOne[lastIndex]:\n",
    "        return True\n",
    "    else:\n",
    "        print('First and last elements of list not same')\n",
    "        return False\n",
    "\n",
    "print('In LstOne: {0}'.format(firstLastEqual(lstOne)))\n",
    "print('In LstTwo: {0}'.format(firstLastEqual(lstTwo)))"
   ]
  },
  {
   "cell_type": "markdown",
   "metadata": {},
   "source": [
    "Question 6: Given a list of numbers, Iterate it and print only those numbers which are divisible of 5"
   ]
  },
  {
   "cell_type": "code",
   "execution_count": 58,
   "metadata": {},
   "outputs": [
    {
     "name": "stdout",
     "output_type": "stream",
     "text": [
      "Numbers divisible by 5 are: [5, 10, 15, 20, 25, 30]\n"
     ]
    }
   ],
   "source": [
    "numList = [1,5,10,11,15,16,20,21,25,26,30,31]\n",
    "divBy5 = []\n",
    "for i in numList:\n",
    "    if i%5==0:\n",
    "        divBy5.append(i)\n",
    "    else:\n",
    "        continue\n",
    "print('Numbers divisible by 5 are: {0}'.format(divBy5))"
   ]
  },
  {
   "cell_type": "markdown",
   "metadata": {},
   "source": [
    "Question 7: Return the number of times that the string “Emma” appears anywhere in the given string"
   ]
  },
  {
   "cell_type": "code",
   "execution_count": 60,
   "metadata": {},
   "outputs": [
    {
     "name": "stdout",
     "output_type": "stream",
     "text": [
      "The word Emma has appeared 2 times in the given string\n"
     ]
    }
   ],
   "source": [
    "string1 = 'Emma is a good developer. Emma is also a writer'\n",
    "wordToCheck = 'Emma'\n",
    "countOfEmma = string1.count(wordToCheck)\n",
    "print('The word {0} has appeared {1} times in the given string'.format(wordToCheck,countOfEmma))"
   ]
  },
  {
   "cell_type": "markdown",
   "metadata": {},
   "source": [
    "Question 8: Print the following pattern\n",
    "1 \n",
    "2 2 \n",
    "3 3 3 \n",
    "4 4 4 4 \n",
    "5 5 5 5 5"
   ]
  },
  {
   "cell_type": "code",
   "execution_count": 5,
   "metadata": {},
   "outputs": [
    {
     "name": "stdout",
     "output_type": "stream",
     "text": [
      "1 \n",
      "\n",
      "2 2 \n",
      "\n",
      "3 3 3 \n",
      "\n",
      "4 4 4 4 \n",
      "\n",
      "5 5 5 5 5 \n",
      "\n"
     ]
    }
   ],
   "source": [
    "a = [1,2,3,4,5]\n",
    "\n",
    "for i in a:\n",
    "    numTimesToPrint = i\n",
    "    numTimesPrinted = 1\n",
    "    while(numTimesPrinted <= numTimesToPrint):\n",
    "        print(i ,end=\" \")\n",
    "        numTimesPrinted +=1\n",
    "    print('\\n')"
   ]
  },
  {
   "cell_type": "markdown",
   "metadata": {},
   "source": [
    "Question 9: Reverse a given number and return true if it is the same as the original number"
   ]
  },
  {
   "cell_type": "code",
   "execution_count": 21,
   "metadata": {},
   "outputs": [
    {
     "name": "stdout",
     "output_type": "stream",
     "text": [
      "121\n"
     ]
    },
    {
     "data": {
      "text/plain": [
       "True"
      ]
     },
     "execution_count": 21,
     "metadata": {},
     "output_type": "execute_result"
    }
   ],
   "source": [
    "numOriginal = 121\n",
    "\n",
    "def reversedNumber(n):\n",
    "    reverseNumber = 0\n",
    "    if n==0:\n",
    "        return True\n",
    "    else:\n",
    "        quotient = 1\n",
    "        num = n\n",
    "        reverseNumber = 0\n",
    "        while(quotient!=0):\n",
    "            quotient = int(num/10)\n",
    "            remainder = int(num%10)\n",
    "            reverseNumber = reverseNumber*10 + remainder\n",
    "            num = quotient\n",
    "        print(reverseNumber)\n",
    "        if numOriginal==reverseNumber:\n",
    "            return True\n",
    "        else:\n",
    "            return False\n",
    "        \n",
    "reversedNumber(numOriginal)"
   ]
  },
  {
   "cell_type": "markdown",
   "metadata": {},
   "source": [
    "Question 10: Given a two list of ints create a third list such that should contain only odd numbers from the first list and even numbers from the second list"
   ]
  },
  {
   "cell_type": "code",
   "execution_count": 26,
   "metadata": {},
   "outputs": [
    {
     "name": "stdout",
     "output_type": "stream",
     "text": [
      "[1, 3, 5, 6, 8, 10]\n"
     ]
    }
   ],
   "source": [
    "lst1 = [1,2,3,4,5]\n",
    "lst2 = [6,7,8,9,10]\n",
    "lst3 = []\n",
    "\n",
    "for i in lst1:\n",
    "    if i%2!=0:\n",
    "        lst3.append(i)\n",
    "    else:\n",
    "        continue\n",
    "\n",
    "for i in lst2:\n",
    "    if i%2==0:\n",
    "        lst3.append(i)\n",
    "    else:\n",
    "        continue\n",
    "        \n",
    "print(lst3)"
   ]
  },
  {
   "cell_type": "code",
   "execution_count": null,
   "metadata": {},
   "outputs": [],
   "source": []
  }
 ],
 "metadata": {
  "kernelspec": {
   "display_name": "Python 3",
   "language": "python",
   "name": "python3"
  },
  "language_info": {
   "codemirror_mode": {
    "name": "ipython",
    "version": 3
   },
   "file_extension": ".py",
   "mimetype": "text/x-python",
   "name": "python",
   "nbconvert_exporter": "python",
   "pygments_lexer": "ipython3",
   "version": "3.6.4"
  }
 },
 "nbformat": 4,
 "nbformat_minor": 2
}
