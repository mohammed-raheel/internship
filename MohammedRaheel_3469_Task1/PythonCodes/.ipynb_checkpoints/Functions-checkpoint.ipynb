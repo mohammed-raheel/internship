{
 "cells": [
  {
   "cell_type": "markdown",
   "metadata": {},
   "source": [
    "Exercise Question 1: Create a function that can accept two arguments name and age and print its value"
   ]
  },
  {
   "cell_type": "code",
   "execution_count": 1,
   "metadata": {},
   "outputs": [
    {
     "name": "stdout",
     "output_type": "stream",
     "text": [
      "sharukh is 50 years old\n"
     ]
    }
   ],
   "source": [
    "def printNameAndAge(name,age):\n",
    "    print('{0} is {1} years old'.format(name,age))\n",
    "\n",
    "name='sharukh'\n",
    "age=50\n",
    "printNameAndAge(name,age)"
   ]
  },
  {
   "cell_type": "markdown",
   "metadata": {},
   "source": [
    "Exercise Question 2: Write a function func1() such that it can accept a variable length of  argument and print all arguments value"
   ]
  },
  {
   "cell_type": "code",
   "execution_count": 6,
   "metadata": {},
   "outputs": [
    {
     "name": "stdout",
     "output_type": "stream",
     "text": [
      "(1, 2, 3, 4, 5, 6)\n",
      "\n",
      "('pandemic', 'contagion')\n",
      "\n",
      "(1, 'pandemic', 2, 'contagion')\n",
      "\n"
     ]
    }
   ],
   "source": [
    "def func1(*args):\n",
    "    print(args)\n",
    "    print()\n",
    "\n",
    "# variable length arguments passed\n",
    "func1(1,2,3,4,5,6)\n",
    "func1('pandemic','contagion')\n",
    "func1(1,'pandemic',2,'contagion')"
   ]
  },
  {
   "cell_type": "markdown",
   "metadata": {},
   "source": [
    "Exercise Question 3: Write a function calculation() such that it can accept two variables and calculate the addition and subtraction of it. And also it must return both addition and subtraction in a single return call"
   ]
  },
  {
   "cell_type": "code",
   "execution_count": 15,
   "metadata": {},
   "outputs": [
    {
     "name": "stdout",
     "output_type": "stream",
     "text": [
      "<class 'int'>\n",
      "the sum and difference for 10, 20 is 30 and -10 respectively\n"
     ]
    }
   ],
   "source": [
    "def calculation(num1,num2):\n",
    "    total = num1+num2\n",
    "    difference = num1-num2\n",
    "    return total,difference # if the calling function stores this in one varible then, the variable type will be tuple.\n",
    "                            # if the calling function stores this in two variables then, the variables are of int type.\n",
    "\n",
    "num1 =10\n",
    "num2 =20\n",
    "addValue,subValue = calculation(num1,num2)\n",
    "print(type(addValue))\n",
    "print('the sum and difference for {0}, {1} is {2} and {3} respectively'.format(num1,num2,addValue,subValue))\n",
    "\n",
    "#ne=calculation(10,20)\n",
    "#print(type(ne))\n",
    "#print(ne)"
   ]
  },
  {
   "cell_type": "markdown",
   "metadata": {},
   "source": [
    "Exercise Question 4: Create a function showEmployee() in such a way that it should accept employee name, and it’s salary and display both, and if the salary is missing in function call it should show it as 9000"
   ]
  },
  {
   "cell_type": "code",
   "execution_count": 20,
   "metadata": {},
   "outputs": [
    {
     "name": "stdout",
     "output_type": "stream",
     "text": [
      "Employee name is vikram and salary is 10000\n",
      "Employee name is suhas and salary is 9000\n"
     ]
    }
   ],
   "source": [
    "def showEmployee(empName, empSalary=9000):\n",
    "    print('Employee name is {0} and salary is {1}'.format(empName,empSalary))\n",
    "\n",
    "# Invoking the showEmployee method.\n",
    "showEmployee('vikram',10000)\n",
    "showEmployee('suhas')"
   ]
  },
  {
   "cell_type": "markdown",
   "metadata": {},
   "source": [
    "Exercise Question 5: Create an inner function to calculate the addition in the following way"
   ]
  },
  {
   "cell_type": "code",
   "execution_count": 24,
   "metadata": {},
   "outputs": [
    {
     "name": "stdout",
     "output_type": "stream",
     "text": [
      "8\n"
     ]
    }
   ],
   "source": [
    "def outerAdd(num1,num2):\n",
    "    def innerAdd(num1,num2):\n",
    "        total = num1 + num2\n",
    "        return total\n",
    "    total = innerAdd(num1,num2) + 5\n",
    "    print(total)\n",
    "\n",
    "outerAdd(1,2)"
   ]
  },
  {
   "cell_type": "markdown",
   "metadata": {},
   "source": [
    "Exercise Question 6: Write a recursive function to calculate the sum of numbers from 0 to 10"
   ]
  },
  {
   "cell_type": "code",
   "execution_count": 31,
   "metadata": {},
   "outputs": [
    {
     "name": "stdout",
     "output_type": "stream",
     "text": [
      "55\n"
     ]
    }
   ],
   "source": [
    "def recursiveAdd(num):\n",
    "    if num!=0:\n",
    "        return num + recursiveAdd(num-1)\n",
    "    else:\n",
    "        return 0\n",
    "\n",
    "totalOf10 = recursiveAdd(10)\n",
    "print(totalOf10)"
   ]
  },
  {
   "cell_type": "markdown",
   "metadata": {},
   "source": [
    "Exercise Question 7: Assign a different name to function and call it through the new name"
   ]
  },
  {
   "cell_type": "code",
   "execution_count": 34,
   "metadata": {},
   "outputs": [
    {
     "name": "stdout",
     "output_type": "stream",
     "text": [
      "michael 30\n",
      "tarak 20\n"
     ]
    }
   ],
   "source": [
    "def displayStudent(name,age):\n",
    "    print(name,age)\n",
    "\n",
    "displayStudent('michael',30)\n",
    "\n",
    "# Change the method name\n",
    "showStudent = displayStudent\n",
    "\n",
    "showStudent('tarak',20)"
   ]
  },
  {
   "cell_type": "markdown",
   "metadata": {},
   "source": [
    "Exercise Question 8: Generate a Python list of all the even numbers between 4 to 40"
   ]
  },
  {
   "cell_type": "code",
   "execution_count": 36,
   "metadata": {},
   "outputs": [
    {
     "name": "stdout",
     "output_type": "stream",
     "text": [
      "[4, 6, 8, 10, 12, 14, 16, 18, 20, 22, 24, 26, 28, 30, 32, 34, 36, 38, 40]\n"
     ]
    }
   ],
   "source": [
    "lstEven = list(range(4,41,2))\n",
    "print(lstEven)"
   ]
  },
  {
   "cell_type": "markdown",
   "metadata": {},
   "source": [
    "Exercise Question 9: Return the largest item from the given list"
   ]
  },
  {
   "cell_type": "code",
   "execution_count": 37,
   "metadata": {},
   "outputs": [
    {
     "name": "stdout",
     "output_type": "stream",
     "text": [
      "40\n"
     ]
    }
   ],
   "source": [
    "lst = [10,23,21,15,6,40,12,32,14,33]\n",
    "print(max(lst))"
   ]
  },
  {
   "cell_type": "code",
   "execution_count": null,
   "metadata": {},
   "outputs": [],
   "source": []
  }
 ],
 "metadata": {
  "kernelspec": {
   "display_name": "Python 3",
   "language": "python",
   "name": "python3"
  },
  "language_info": {
   "codemirror_mode": {
    "name": "ipython",
    "version": 3
   },
   "file_extension": ".py",
   "mimetype": "text/x-python",
   "name": "python",
   "nbconvert_exporter": "python",
   "pygments_lexer": "ipython3",
   "version": "3.6.4"
  }
 },
 "nbformat": 4,
 "nbformat_minor": 2
}
