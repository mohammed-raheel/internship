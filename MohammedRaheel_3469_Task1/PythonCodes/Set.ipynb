{
 "cells": [
  {
   "cell_type": "markdown",
   "metadata": {},
   "source": [
    "Exercise Question 1: Add a list of elements to a given set"
   ]
  },
  {
   "cell_type": "code",
   "execution_count": 2,
   "metadata": {},
   "outputs": [
    {
     "name": "stdout",
     "output_type": "stream",
     "text": [
      "Original set:\n",
      " {'Yellow', 'Orange', 'Black'}\n",
      "After updating set:\n",
      " {'Yellow', 'Orange', 'Green', 'Blue', 'Black', 'Red'}\n"
     ]
    }
   ],
   "source": [
    "st1 = {\"Yellow\", \"Orange\", \"Black\"}\n",
    "lst1 = [\"Blue\", \"Green\", \"Red\"]\n",
    "print('Original set:\\n',st1)\n",
    "# Add elements to st1\n",
    "st1.update(lst1)\n",
    "print('After updating set:\\n',st1)"
   ]
  },
  {
   "cell_type": "markdown",
   "metadata": {},
   "source": [
    "Exercise Question 2: Return a set of identical items from a given two Python set"
   ]
  },
  {
   "cell_type": "code",
   "execution_count": 5,
   "metadata": {},
   "outputs": [
    {
     "name": "stdout",
     "output_type": "stream",
     "text": [
      "Identical items:\n",
      " {40, 50, 30}\n"
     ]
    }
   ],
   "source": [
    "st2 = {10, 20, 30, 40, 50}\n",
    "st3 = {30, 40, 50, 60, 70}\n",
    "identicalItems = st2.intersection(st3)\n",
    "print('Identical items:\\n',identicalItems)"
   ]
  },
  {
   "cell_type": "markdown",
   "metadata": {},
   "source": [
    "Exercise Question 3: Returns a new set with all items from both sets by removing duplicates"
   ]
  },
  {
   "cell_type": "code",
   "execution_count": 6,
   "metadata": {},
   "outputs": [
    {
     "name": "stdout",
     "output_type": "stream",
     "text": [
      "{70, 40, 10, 50, 20, 60, 30}\n"
     ]
    }
   ],
   "source": [
    "st4 = {10, 20, 30, 40, 50}\n",
    "st5 = {30, 40, 50, 60, 70}\n",
    "st6 = st4.union(st5) # sets cannot have duplicates. It takes care to not add same element again\n",
    "print(st6)"
   ]
  },
  {
   "cell_type": "markdown",
   "metadata": {},
   "source": [
    "Exercise Question 4: Given two Python sets, update first set with items that exist only in the first set and not in the second set."
   ]
  },
  {
   "cell_type": "code",
   "execution_count": 7,
   "metadata": {},
   "outputs": [
    {
     "name": "stdout",
     "output_type": "stream",
     "text": [
      "{10, 30}\n"
     ]
    }
   ],
   "source": [
    "st7 = {10, 20, 30}\n",
    "st8 = {20, 40, 50}\n",
    "\n",
    "st7.difference_update(st8)\n",
    "print(st7)"
   ]
  },
  {
   "cell_type": "markdown",
   "metadata": {},
   "source": [
    "Exercise Question 5: Remove 10, 20, 30 elements from a following set at once"
   ]
  },
  {
   "cell_type": "code",
   "execution_count": 26,
   "metadata": {},
   "outputs": [
    {
     "name": "stdout",
     "output_type": "stream",
     "text": [
      "Updated list:\n",
      " {40, 50}\n",
      "Original list:\n",
      " {40, 10, 50, 20, 30}\n",
      "Updated list:\n",
      " {40, 50}\n"
     ]
    }
   ],
   "source": [
    "st9 = {10, 20, 30, 40, 50}\n",
    "elemToRemove = {10,20,30}\n",
    "\n",
    "# Approach 1\n",
    "{st9.remove(i) for i in elemToRemove}\n",
    "print('Updated list:\\n',st9)\n",
    "\n",
    "st9.add(10)\n",
    "st9.add(20)\n",
    "st9.add(30)\n",
    "print('Original list:\\n',st9)\n",
    "\n",
    "# Approach 2\n",
    "st9.difference_update(elemToRemove)\n",
    "print('Updated list:\\n',st9)"
   ]
  },
  {
   "cell_type": "markdown",
   "metadata": {},
   "source": [
    "Exercise Question 6: Return a set of all elements in either A or B, but not both"
   ]
  },
  {
   "cell_type": "code",
   "execution_count": 35,
   "metadata": {},
   "outputs": [
    {
     "data": {
      "text/plain": [
       "{10, 20, 60, 70}"
      ]
     },
     "execution_count": 35,
     "metadata": {},
     "output_type": "execute_result"
    }
   ],
   "source": [
    "st10 = {10, 20, 30, 40, 50}\n",
    "st11 = {30, 40, 50, 60, 70}\n",
    "\n",
    "# symmetric difference finds the symetric difference between two sets and updats the calling set\n",
    "st10.symmetric_difference_update(st11)\n",
    "st10"
   ]
  },
  {
   "cell_type": "markdown",
   "metadata": {},
   "source": [
    "Exercise Question 7: Determines whether or not the following two sets have any elements in common. If yes display the common elements"
   ]
  },
  {
   "cell_type": "code",
   "execution_count": 39,
   "metadata": {},
   "outputs": [
    {
     "name": "stdout",
     "output_type": "stream",
     "text": [
      "{10}\n"
     ]
    }
   ],
   "source": [
    "st12 = {10, 20, 30, 40, 50}\n",
    "st13 = {60, 70, 80, 90, 10}\n",
    "print(st12.intersection(st13))"
   ]
  },
  {
   "cell_type": "markdown",
   "metadata": {},
   "source": [
    "Exercise Question 8: Update set1 by adding items from set2, except common items"
   ]
  },
  {
   "cell_type": "code",
   "execution_count": 40,
   "metadata": {},
   "outputs": [
    {
     "name": "stdout",
     "output_type": "stream",
     "text": [
      "Set1:\n",
      " {40, 10, 50, 20, 30}\n",
      "Set2:\n",
      " {70, 40, 50, 60, 30}\n",
      "After updating set1:\n",
      " {70, 10, 20, 60}\n"
     ]
    }
   ],
   "source": [
    "st14 = {10, 20, 30, 40, 50}\n",
    "st15 = {30, 40, 50, 60, 70}\n",
    "print('Set1:\\n',st14)\n",
    "print('Set2:\\n',st15)\n",
    "st14.symmetric_difference_update(st15)\n",
    "print('After updating set1:\\n',st14)"
   ]
  },
  {
   "cell_type": "markdown",
   "metadata": {},
   "source": [
    "Exercise Question 9: Remove items from set1 that are not common to both set1 and set2"
   ]
  },
  {
   "cell_type": "code",
   "execution_count": 44,
   "metadata": {},
   "outputs": [
    {
     "name": "stdout",
     "output_type": "stream",
     "text": [
      "{40, 50, 30}\n"
     ]
    }
   ],
   "source": [
    "st16 = {10, 20, 30, 40, 50}\n",
    "st17 = {30, 40, 50, 60, 70}\n",
    "st16.intersection_update(st17)\n",
    "print(st16)"
   ]
  },
  {
   "cell_type": "code",
   "execution_count": null,
   "metadata": {},
   "outputs": [],
   "source": []
  }
 ],
 "metadata": {
  "kernelspec": {
   "display_name": "Python 3",
   "language": "python",
   "name": "python3"
  },
  "language_info": {
   "codemirror_mode": {
    "name": "ipython",
    "version": 3
   },
   "file_extension": ".py",
   "mimetype": "text/x-python",
   "name": "python",
   "nbconvert_exporter": "python",
   "pygments_lexer": "ipython3",
   "version": "3.6.4"
  }
 },
 "nbformat": 4,
 "nbformat_minor": 2
}
