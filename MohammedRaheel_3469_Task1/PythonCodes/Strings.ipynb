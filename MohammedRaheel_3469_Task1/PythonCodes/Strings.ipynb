{
 "cells": [
  {
   "cell_type": "markdown",
   "metadata": {},
   "source": [
    "Exercise Question 1: Given a string of odd length greater 7, return a string made of the middle three chars of a given String"
   ]
  },
  {
   "cell_type": "code",
   "execution_count": 7,
   "metadata": {},
   "outputs": [
    {
     "data": {
      "text/plain": [
       "'efg'"
      ]
     },
     "execution_count": 7,
     "metadata": {},
     "output_type": "execute_result"
    }
   ],
   "source": [
    "string1 = 'abcdefghijk'\n",
    "startIndex = len(string1)//2 - 1\n",
    "endIndex = len(string1)//2 + 2\n",
    "string1[startIndex:endIndex]"
   ]
  },
  {
   "cell_type": "markdown",
   "metadata": {},
   "source": [
    "Exercise Question 2: Given 2 strings, s1 and s2, create a new string by appending s2 in the middle of s1"
   ]
  },
  {
   "cell_type": "code",
   "execution_count": 22,
   "metadata": {},
   "outputs": [
    {
     "name": "stdout",
     "output_type": "stream",
     "text": [
      "ChrIamNewStringisdem\n"
     ]
    }
   ],
   "source": [
    "s1 = 'Chrisdem'\n",
    "s2 = 'IamNewString'\n",
    "def appendInMiddle(s1,s2):\n",
    "    s1FirstHalf = s1[:len(s1)//2-1]\n",
    "    s1SecondHalf = s1[len(s1)//2-1:]\n",
    "    s3 = s1FirstHalf + s2 + s1SecondHalf\n",
    "    print(s3)\n",
    "\n",
    "appendInMiddle(s1,s2)"
   ]
  },
  {
   "cell_type": "markdown",
   "metadata": {},
   "source": [
    "Exercise Question 3: Given 2 strings, s1, and s2 return a new string made of the first, middle and last char each input string"
   ]
  },
  {
   "cell_type": "code",
   "execution_count": 27,
   "metadata": {},
   "outputs": [
    {
     "name": "stdout",
     "output_type": "stream",
     "text": [
      "ajrpan\n"
     ]
    }
   ],
   "source": [
    "s1 = \"america\"\n",
    "s2 = \"japan\"\n",
    "\n",
    "def fmlJoin(s1,s2):\n",
    "    startIndex = 0\n",
    "    middleIndexS1 = len(s1)//2\n",
    "    middleIndexS2 = len(s2)//2\n",
    "    endIndexS1 = len(s1)-1\n",
    "    endIndexS2 = len(s2)-1\n",
    "    s3 = s1[startIndex]+s2[startIndex] + s1[middleIndexS1] + s2[middleIndexS2] + s1[endIndexS1] + s2[endIndexS2]\n",
    "    print(s3)\n",
    "    \n",
    "fmlJoin(s1,s2)"
   ]
  },
  {
   "cell_type": "markdown",
   "metadata": {},
   "source": [
    "Exercise Question 4: arrange String characters such that lowercase letters should come first"
   ]
  },
  {
   "cell_type": "code",
   "execution_count": 34,
   "metadata": {},
   "outputs": [
    {
     "name": "stdout",
     "output_type": "stream",
     "text": [
      "yaivePNT\n"
     ]
    }
   ],
   "source": [
    "string1 = 'PyNaTive'\n",
    "\n",
    "lowerCase = []\n",
    "upperCase = []\n",
    "\n",
    "for i in string1:\n",
    "    if i.islower():\n",
    "        lowerCase.append(i)\n",
    "    else:\n",
    "        upperCase.append(i)\n",
    "\n",
    "appendedString = ''.join(lowerCase + upperCase)\n",
    "print(appendedString)"
   ]
  },
  {
   "cell_type": "markdown",
   "metadata": {},
   "source": [
    "Exercise Question 5: Given a string input Count all lower case, upper case, digits, and special symbols"
   ]
  },
  {
   "cell_type": "code",
   "execution_count": 38,
   "metadata": {},
   "outputs": [
    {
     "name": "stdout",
     "output_type": "stream",
     "text": [
      "Lower case count: 7\n",
      "Upper case count: 4\n",
      "Numeric count: 1\n",
      "Special char count: 1\n"
     ]
    }
   ],
   "source": [
    "def counts(inpStr):\n",
    "    lowerCaseCount=0\n",
    "    upperCaseCount=0\n",
    "    numericCount=0\n",
    "    specialCharCount=0\n",
    "    \n",
    "    for i in inpStr:\n",
    "        if i.islower():\n",
    "            lowerCaseCount+=1\n",
    "        elif i.isupper():\n",
    "            upperCaseCount+=1\n",
    "        elif i.isnumeric():\n",
    "            numericCount+=1\n",
    "        else:\n",
    "            specialCharCount+=1\n",
    "\n",
    "    print('Lower case count: {0}\\nUpper case count: {1}\\nNumeric count: {2}\\nSpecial char count: {3}'.\n",
    "          format(lowerCaseCount,upperCaseCount,numericCount,specialCharCount))\n",
    "\n",
    "counts('HalfOf1EartH!')"
   ]
  },
  {
   "cell_type": "markdown",
   "metadata": {},
   "source": [
    "Exercise Question 6: Given two strings, s1 and s2, create a mixed String"
   ]
  },
  {
   "cell_type": "code",
   "execution_count": 52,
   "metadata": {},
   "outputs": [
    {
     "name": "stdout",
     "output_type": "stream",
     "text": [
      "agbfced\n",
      "PeytniastbievWe\n"
     ]
    }
   ],
   "source": [
    "def outerFunc(inp1,inp2):\n",
    "    ln1 = len(inp1)\n",
    "    ln2 = len(inp2)\n",
    "    \n",
    "    if (ln1>=ln2):\n",
    "        mixString(inp1,inp2)\n",
    "    else:\n",
    "        mixString(inp2,inp1)\n",
    "\n",
    "def mixString(str1,str2):\n",
    "    length2 = len(str2)\n",
    "    result = ''\n",
    "    for i in str1:\n",
    "        if length2>0:\n",
    "            result = result + i + str2[length2-1] # fetching the str2 from the last element\n",
    "            length2-=1\n",
    "        else:\n",
    "            result = result + i\n",
    "    print(result)\n",
    "\n",
    "# mixString('abcd','efgh')\n",
    "outerFunc('abcd','efg')\n",
    "outerFunc('Pynative', 'Website')"
   ]
  },
  {
   "cell_type": "markdown",
   "metadata": {},
   "source": [
    "Exercise Question 7: String characters balance Test"
   ]
  },
  {
   "cell_type": "code",
   "execution_count": 63,
   "metadata": {},
   "outputs": [
    {
     "name": "stdout",
     "output_type": "stream",
     "text": [
      "ia and hawaii are balanced: True\n"
     ]
    }
   ],
   "source": [
    "string1 = 'ia'\n",
    "string2 = 'hawaii'\n",
    "\n",
    "def charBalanceCheck(string1,string2):\n",
    "    for i in string1:\n",
    "        if i in string2:\n",
    "            flag = True\n",
    "        else:\n",
    "            flag = False\n",
    "\n",
    "    print('{0} and {1} are balanced: {2}'.format(string1,string2,flag))\n",
    "    \n",
    "charBalanceCheck(string1,string2)"
   ]
  },
  {
   "cell_type": "markdown",
   "metadata": {},
   "source": [
    "Exercise Question 8: Find all occurrences of “USA” in given string ignoring the case"
   ]
  },
  {
   "cell_type": "code",
   "execution_count": 66,
   "metadata": {},
   "outputs": [
    {
     "name": "stdout",
     "output_type": "stream",
     "text": [
      "Count of USA in string: 2\n"
     ]
    }
   ],
   "source": [
    "string1 = 'Welcome to USA. usa awesome, isn\\'t it?'\n",
    "\n",
    "# convert everything to lower case\n",
    "countOfUSA = string1.lower().count('usa')\n",
    "print('Count of USA in string: {0}'.format(countOfUSA))"
   ]
  },
  {
   "cell_type": "markdown",
   "metadata": {},
   "source": [
    "Exercise Question 9: Given a string, return the sum and average of the digits that appear in the string, ignoring all other characters"
   ]
  },
  {
   "cell_type": "code",
   "execution_count": 73,
   "metadata": {},
   "outputs": [
    {
     "name": "stdout",
     "output_type": "stream",
     "text": [
      "Sum is 294 and average is 73.5\n"
     ]
    }
   ],
   "source": [
    "string1 = 'English = 78 Science = 83 Math = 68 History = 65'\n",
    "total=0\n",
    "countOfNumbers=0\n",
    "string1 = string1.split(' ')\n",
    "\n",
    "for i in string1:\n",
    "    if i.isnumeric():\n",
    "        total = total + int(i)\n",
    "        countOfNumbers+=1\n",
    "    else:\n",
    "        continue\n",
    "\n",
    "average = total/countOfNumbers\n",
    "print('Sum is {0} and average is {1}'.format(total,average))"
   ]
  },
  {
   "cell_type": "markdown",
   "metadata": {},
   "source": [
    "Exercise Question 10: Given an input string, count occurrences of all characters within a string"
   ]
  },
  {
   "cell_type": "code",
   "execution_count": 77,
   "metadata": {},
   "outputs": [
    {
     "name": "stdout",
     "output_type": "stream",
     "text": [
      "{'p': 3, 'y': 3, 'n': 3, 'a': 2, 't': 2, 'i': 2, 'v': 3, 'e': 3}\n"
     ]
    }
   ],
   "source": [
    "string1='pynativepynvepynative'\n",
    "dictAlpha = dict()\n",
    "for i in string1:\n",
    "    count = string1.count(i)\n",
    "    dictAlpha[i]=count\n",
    "    \n",
    "print(dictAlpha)"
   ]
  },
  {
   "cell_type": "code",
   "execution_count": null,
   "metadata": {},
   "outputs": [],
   "source": []
  }
 ],
 "metadata": {
  "kernelspec": {
   "display_name": "Python 3",
   "language": "python",
   "name": "python3"
  },
  "language_info": {
   "codemirror_mode": {
    "name": "ipython",
    "version": 3
   },
   "file_extension": ".py",
   "mimetype": "text/x-python",
   "name": "python",
   "nbconvert_exporter": "python",
   "pygments_lexer": "ipython3",
   "version": "3.6.4"
  }
 },
 "nbformat": 4,
 "nbformat_minor": 2
}
