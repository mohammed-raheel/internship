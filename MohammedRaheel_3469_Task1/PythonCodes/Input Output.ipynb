{
 "cells": [
  {
   "cell_type": "raw",
   "metadata": {},
   "source": [
    "Exercise Question 1: Accept two numbers from the user and calculate multiplication"
   ]
  },
  {
   "cell_type": "code",
   "execution_count": 3,
   "metadata": {},
   "outputs": [
    {
     "name": "stdout",
     "output_type": "stream",
     "text": [
      "Enter first number: 10\n",
      "Enter second number: 20\n",
      "the product is: 200\n"
     ]
    }
   ],
   "source": [
    "num1 = int(input('Enter first number: '))\n",
    "num2 = int(input('Enter second number: '))\n",
    "product = num1*num2\n",
    "print('the product is: {0}'.format(product))"
   ]
  },
  {
   "cell_type": "markdown",
   "metadata": {},
   "source": [
    "Exercise Question 2: Display “My Name Is James” as “My**Name**Is**James” using output formatting of a print() function"
   ]
  },
  {
   "cell_type": "code",
   "execution_count": 4,
   "metadata": {},
   "outputs": [
    {
     "name": "stdout",
     "output_type": "stream",
     "text": [
      "My**Name**Is**James\n"
     ]
    }
   ],
   "source": [
    "print('My','Name','Is','James', sep='**')"
   ]
  },
  {
   "cell_type": "markdown",
   "metadata": {},
   "source": [
    "Exercise Question 3: Convert decimal number to octal using print() output formatting"
   ]
  },
  {
   "cell_type": "code",
   "execution_count": 11,
   "metadata": {},
   "outputs": [
    {
     "name": "stdout",
     "output_type": "stream",
     "text": [
      "octal number: 0o10\n"
     ]
    }
   ],
   "source": [
    "num1=int(8)\n",
    "print('octal number: {0}'.format(oct(num1)))"
   ]
  },
  {
   "cell_type": "markdown",
   "metadata": {},
   "source": [
    "Exercise Question 4: Display float number with 2 decimal places using print()"
   ]
  },
  {
   "cell_type": "code",
   "execution_count": 16,
   "metadata": {},
   "outputs": [
    {
     "name": "stdout",
     "output_type": "stream",
     "text": [
      "120.22\n"
     ]
    }
   ],
   "source": [
    "fltNum = 120.2222\n",
    "print('%2.2f' % fltNum)"
   ]
  },
  {
   "cell_type": "markdown",
   "metadata": {},
   "source": [
    "Exercise Question 5: Accept list of 5 float numbers as a input from user"
   ]
  },
  {
   "cell_type": "code",
   "execution_count": 19,
   "metadata": {},
   "outputs": [
    {
     "name": "stdout",
     "output_type": "stream",
     "text": [
      "Enter the number of numbers to be stored in list: 3\n",
      "Enter a floating point number: 10.12\n",
      "Enter a floating point number: 20.23\n",
      "Enter a floating point number: 30.34\n",
      "[10.12, 20.23, 30.34]\n"
     ]
    }
   ],
   "source": [
    "numOfRequestedInp = int(input('Enter the number of numbers to be stored in list: '))\n",
    "i = 1\n",
    "lst1 = []\n",
    "while i<=numOfRequestedInp:\n",
    "    lstElement = float(input('Enter a floating point number: '))\n",
    "    lst1.append(lstElement)\n",
    "    i+=1\n",
    "print(lst1)"
   ]
  },
  {
   "cell_type": "markdown",
   "metadata": {},
   "source": [
    "Exercise Question 6: write all file content into new file by skiping line 5 from following file"
   ]
  },
  {
   "cell_type": "code",
   "execution_count": 35,
   "metadata": {},
   "outputs": [],
   "source": [
    "# Lets read the file\n",
    "readFile = open('Footballers.txt','r') # opening the file in read mode\n",
    "lines = readFile.readlines() # This is a list\n",
    "countOfLines = len(lines) # Number of lines in the text file\n",
    "writeFile = open('UpdatedFootballers.txt','w')\n",
    "\n",
    "for i in lines:\n",
    "    if countOfLines==3:\n",
    "        countOfLines-=1\n",
    "        continue\n",
    "    else:\n",
    "        writeFile.write(i)\n",
    "    countOfLines-=1\n",
    "    \n",
    "readFile.close()\n",
    "writeFile.close()"
   ]
  },
  {
   "cell_type": "markdown",
   "metadata": {},
   "source": [
    "Exercise Question 7: Accept any three string from one input() call"
   ]
  },
  {
   "cell_type": "code",
   "execution_count": 41,
   "metadata": {},
   "outputs": [
    {
     "name": "stdout",
     "output_type": "stream",
     "text": [
      "Enter atleast three strings: john emma, kelly\n",
      "the first three strings are: john emma, kelly\n"
     ]
    }
   ],
   "source": [
    "firstWord,secondWord,thirdWord = input('Enter atleast three strings: ').split()\n",
    "print('the first three strings are: {0} {1} {2}'.format(firstWord,secondWord,thirdWord))"
   ]
  },
  {
   "cell_type": "markdown",
   "metadata": {},
   "source": [
    "Exercise Question 8: You have following data display it using string.format() method as per the following condition\n",
    "'I have 1000 dollars so I can buy 3 football for 450.00 dollars.'"
   ]
  },
  {
   "cell_type": "code",
   "execution_count": 43,
   "metadata": {},
   "outputs": [
    {
     "name": "stdout",
     "output_type": "stream",
     "text": [
      "I have 1000 dollars so i can buy 3 football for 450.00 dollars\n"
     ]
    }
   ],
   "source": [
    "quantity = 3\n",
    "totalMoney = 1000\n",
    "price = 450\n",
    "print('I have {0} dollars so i can buy {1} football for %2.2f dollars'.format(totalMoney,quantity) % price)\n",
    "# We can also specify formatting like this {2:.2f}, where first 2 is the element number and separted by :,\n",
    "# then after the decimal how many places we want."
   ]
  },
  {
   "cell_type": "markdown",
   "metadata": {},
   "source": [
    "Exercise Question 9: How to check file is empty or not"
   ]
  },
  {
   "cell_type": "code",
   "execution_count": 47,
   "metadata": {},
   "outputs": [
    {
     "name": "stdout",
     "output_type": "stream",
     "text": [
      "File is empty\n"
     ]
    }
   ],
   "source": [
    "readFile = open('Empty.txt','r') # opening the file in read mode\n",
    "lines = readFile.readlines() # This is a list\n",
    "countOfLines = len(lines) # Number of lines in \n",
    "if countOfLines==0:\n",
    "    print('File is empty')\n",
    "else:\n",
    "    print(lines)\n",
    "readFile.close()"
   ]
  },
  {
   "cell_type": "markdown",
   "metadata": {},
   "source": [
    "Exercise Question 10: Read line number 4 from the following file"
   ]
  },
  {
   "cell_type": "code",
   "execution_count": 48,
   "metadata": {},
   "outputs": [
    {
     "name": "stdout",
     "output_type": "stream",
     "text": [
      "file4\n",
      "\n"
     ]
    }
   ],
   "source": [
    "readFile = open('Footballers.txt','r') # opening the file in read mode\n",
    "lines = readFile.readlines() # This is a list\n",
    "print(lines[3])\n",
    "readFile.close()"
   ]
  },
  {
   "cell_type": "code",
   "execution_count": null,
   "metadata": {},
   "outputs": [],
   "source": []
  }
 ],
 "metadata": {
  "kernelspec": {
   "display_name": "Python 3",
   "language": "python",
   "name": "python3"
  },
  "language_info": {
   "codemirror_mode": {
    "name": "ipython",
    "version": 3
   },
   "file_extension": ".py",
   "mimetype": "text/x-python",
   "name": "python",
   "nbconvert_exporter": "python",
   "pygments_lexer": "ipython3",
   "version": "3.6.4"
  }
 },
 "nbformat": 4,
 "nbformat_minor": 2
}
