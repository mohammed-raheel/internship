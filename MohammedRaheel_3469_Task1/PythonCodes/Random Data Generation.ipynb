{
 "cells": [
  {
   "cell_type": "markdown",
   "metadata": {},
   "source": [
    "Question 1: Generate 3 random integers between 100 and 999 which is divisible by 5"
   ]
  },
  {
   "cell_type": "code",
   "execution_count": 10,
   "metadata": {},
   "outputs": [
    {
     "name": "stdout",
     "output_type": "stream",
     "text": [
      "560\n",
      "560\n",
      "820\n"
     ]
    }
   ],
   "source": [
    "import random\n",
    "\n",
    "# syntax:\n",
    "# randrange(start,end,divisor)\n",
    "\n",
    "for i in range(3):\n",
    "    print(random.randrange(100,999,5))"
   ]
  },
  {
   "cell_type": "markdown",
   "metadata": {},
   "source": [
    "Question 2: Random Lottery Pick"
   ]
  },
  {
   "cell_type": "code",
   "execution_count": 34,
   "metadata": {},
   "outputs": [
    {
     "name": "stdout",
     "output_type": "stream",
     "text": [
      "[8924371434, 8277283749]\n"
     ]
    },
    {
     "data": {
      "text/plain": [
       "[8924371434]"
      ]
     },
     "execution_count": 34,
     "metadata": {},
     "output_type": "execute_result"
    }
   ],
   "source": [
    "lottery_tickets = []\n",
    "\n",
    "for i in range(100):\n",
    "    # Generating unique lottery numbers\n",
    "    lottery_tickets.append(random.randrange(1000000000,9999999999))\n",
    "\n",
    "# Select 2 lottery numbers randomly\n",
    "winners = random.sample(lottery_tickets,2)\n",
    "print(winners)"
   ]
  },
  {
   "cell_type": "markdown",
   "metadata": {},
   "source": [
    "Question 3: Generate 6 digit random secure OTP"
   ]
  },
  {
   "cell_type": "code",
   "execution_count": 13,
   "metadata": {},
   "outputs": [
    {
     "name": "stdout",
     "output_type": "stream",
     "text": [
      "776780\n"
     ]
    }
   ],
   "source": [
    "import secrets\n",
    "\n",
    "print(secrets.SystemRandom().randrange(100000,999999))"
   ]
  },
  {
   "cell_type": "markdown",
   "metadata": {},
   "source": [
    "Question 4: Pick a random charcter from a given String"
   ]
  },
  {
   "cell_type": "code",
   "execution_count": 21,
   "metadata": {},
   "outputs": [
    {
     "name": "stdout",
     "output_type": "stream",
     "text": [
      "Randomly picked up:  e\n"
     ]
    }
   ],
   "source": [
    "a = 'Hello'\n",
    "print('Randomly picked up: ',random.choice(a))"
   ]
  },
  {
   "cell_type": "markdown",
   "metadata": {},
   "source": [
    "Question 5: Generate  random String of length 5"
   ]
  },
  {
   "cell_type": "code",
   "execution_count": 27,
   "metadata": {},
   "outputs": [
    {
     "name": "stdout",
     "output_type": "stream",
     "text": [
      "Randomly generated 5 letter string:  rCdMk\n"
     ]
    }
   ],
   "source": [
    "import string\n",
    "numberOfChar = 5\n",
    "result = []\n",
    "for i in range(5):\n",
    "    result.append(random.choice(string.ascii_letters))\n",
    "\n",
    "finalString = ''.join(result)\n",
    "print(\"Randomly generated 5 letter string: \",finalString)"
   ]
  },
  {
   "cell_type": "markdown",
   "metadata": {},
   "source": [
    "Question 6: Generate a random Password which meets the following conditions"
   ]
  },
  {
   "cell_type": "code",
   "execution_count": 69,
   "metadata": {},
   "outputs": [
    {
     "name": "stdout",
     "output_type": "stream",
     "text": [
      "[1DDDD`1DA\n"
     ]
    }
   ],
   "source": [
    "import string\n",
    "passwordLen = 10\n",
    "minSpecialCharLen = 2\n",
    "minDigitLen = 2\n",
    "minUpperCharLen = 2\n",
    "randomCharsLen = passwordLen - (minDigitLen+minSpecialCharLen+minUpperCharLen)\n",
    "passwordPool = string.ascii_letters + string.digits + string.punctuation\n",
    "result1 = ''\n",
    "for i in range(2):\n",
    "        result1 += random.choice(string.ascii_uppercase) + random.choice(string.digits) + random.choice(string.punctuation)\n",
    "\n",
    "for i in range(randomCharsLen):\n",
    "    result1+= random.choice(result1)\n",
    "#x = ''.join(result)\n",
    "\n",
    "passwrdLst = list(result1)\n",
    "random.SystemRandom().shuffle(passwrdLst)\n",
    "password = ''.join(passwrdLst)\n",
    "print(password)"
   ]
  },
  {
   "cell_type": "markdown",
   "metadata": {},
   "source": [
    "Question 7: Calculate mutiplication of two random float numbers"
   ]
  },
  {
   "cell_type": "code",
   "execution_count": 80,
   "metadata": {},
   "outputs": [
    {
     "name": "stdout",
     "output_type": "stream",
     "text": [
      "15.39909945124257\n"
     ]
    }
   ],
   "source": [
    "# random.random() generates floating numbers btw 0.1 and 1\n",
    "# random.uniform(start,end) generates a floating point btw start and end\n",
    "num1 = random.random()   # 0.1 -1.0\n",
    "num2 = random.uniform(9.5,99.5)\n",
    "product = num1 * num2\n",
    "print(product)"
   ]
  },
  {
   "cell_type": "markdown",
   "metadata": {},
   "source": [
    "Question 8: Generate random secure token of 64 bytes and random URL"
   ]
  },
  {
   "cell_type": "code",
   "execution_count": 88,
   "metadata": {},
   "outputs": [
    {
     "name": "stdout",
     "output_type": "stream",
     "text": [
      "secure token:  44dcdfb193c54eec692284b9afb5f8d73dde61fa71ab526dff54fd945e362dfa8547ef51034f370ceb550bf52a780a3cb61491a42be4ededfce838f13929ac3f \n",
      "\n",
      "secure url:  GM7J33Vk--zZ2k3T0V0c6powEEKLCnmPbONSPRh-1F8tzcMEjoieLzFY-Gz8_IAqzukAPv-yIZWs1GpKzMJY0A\n"
     ]
    }
   ],
   "source": [
    "# For any secure generation, use secrets\n",
    "print('secure token: ',secrets.token_hex(64),'\\n')\n",
    "print('secure url: ',secrets.token_urlsafe(64))"
   ]
  },
  {
   "cell_type": "markdown",
   "metadata": {},
   "source": [
    "Question 9: Roll dice in such a way that every time you get the same number"
   ]
  },
  {
   "cell_type": "code",
   "execution_count": 91,
   "metadata": {},
   "outputs": [
    {
     "name": "stdout",
     "output_type": "stream",
     "text": [
      "Randomly choosing the same number on dice\n",
      "4\n",
      "4\n",
      "4\n",
      "4\n",
      "4\n",
      "4\n"
     ]
    }
   ],
   "source": [
    "diceNumber = [1, 2, 3, 4, 5, 6]\n",
    "print(\"Randomly choosing the same number on dice\")\n",
    "for i in range(6): # 6 chances\n",
    "    random.seed(25) # random number\n",
    "    print(random.choice(diceNumber))"
   ]
  }
 ],
 "metadata": {
  "kernelspec": {
   "display_name": "Python 3",
   "language": "python",
   "name": "python3"
  },
  "language_info": {
   "codemirror_mode": {
    "name": "ipython",
    "version": 3
   },
   "file_extension": ".py",
   "mimetype": "text/x-python",
   "name": "python",
   "nbconvert_exporter": "python",
   "pygments_lexer": "ipython3",
   "version": "3.6.4"
  }
 },
 "nbformat": 4,
 "nbformat_minor": 2
}
