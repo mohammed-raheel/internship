{
 "cells": [
  {
   "cell_type": "code",
   "execution_count": 1,
   "metadata": {},
   "outputs": [],
   "source": [
    "import numpy as np"
   ]
  },
  {
   "cell_type": "markdown",
   "metadata": {},
   "source": [
    "Question 1: Create a 4X2 integer array and Prints its attributes"
   ]
  },
  {
   "cell_type": "code",
   "execution_count": 15,
   "metadata": {},
   "outputs": [
    {
     "name": "stdout",
     "output_type": "stream",
     "text": [
      "Array shape:  (4, 2)\n",
      "Array dimension:  2\n",
      "Length of each element of array in bytes:  2\n",
      "Array shape:  (4, 2)\n",
      "Array dimension:  2\n",
      "Length of each element of array in bytes:  2\n"
     ]
    }
   ],
   "source": [
    "# Approach 1\n",
    "ar1 = np.array([[1,2],[3,4],[5,6],[7,8]],dtype=np.uint16)\n",
    "print('Array shape: ',ar1.shape)\n",
    "print('Array dimension: ',ar1.ndim)\n",
    "print('Length of each element of array in bytes: ',ar1.itemsize)\n",
    "\n",
    "# Approach 2\n",
    "ar1 = np.empty([4,2], dtype=np.uint16)\n",
    "print('Array shape: ',ar1.shape)\n",
    "print('Array dimension: ',ar1.ndim)\n",
    "print('Length of each element of array in bytes: ',ar1.itemsize)"
   ]
  },
  {
   "cell_type": "markdown",
   "metadata": {},
   "source": [
    "Question 2: Create a 5X2 integer array from a range between 100 to 200 such that the difference between each element is 10"
   ]
  },
  {
   "cell_type": "code",
   "execution_count": 28,
   "metadata": {},
   "outputs": [
    {
     "name": "stdout",
     "output_type": "stream",
     "text": [
      "[[100 110]\n",
      " [120 130]\n",
      " [140 150]\n",
      " [160 170]\n",
      " [180 190]]\n",
      "\n",
      " [[100 110]\n",
      " [120 130]\n",
      " [140 150]\n",
      " [160 170]\n",
      " [180 190]]\n"
     ]
    }
   ],
   "source": [
    "# Approach 1\n",
    "lstNum = []\n",
    "for i in range(100,200,10):\n",
    "    lstNum.append(i)\n",
    "    \n",
    "a = np.asarray(lstNum)\n",
    "a= a.reshape(5,2)\n",
    "print(a)\n",
    "\n",
    "# Approach 2\n",
    "a = np.arange(100,200,10)\n",
    "a = a.reshape(5,2)\n",
    "print('\\n',a)"
   ]
  },
  {
   "cell_type": "markdown",
   "metadata": {},
   "source": [
    "Question 3: Following is the provided numPy array. return array of items in the third column from all rows"
   ]
  },
  {
   "cell_type": "code",
   "execution_count": 79,
   "metadata": {},
   "outputs": [
    {
     "name": "stdout",
     "output_type": "stream",
     "text": [
      "Accesing 2nd column:  [[22]\n",
      " [55]\n",
      " [88]]\n",
      "\n",
      "Accessing 3rd column:  [[33]\n",
      " [66]\n",
      " [99]]\n"
     ]
    }
   ],
   "source": [
    "ar2 = np.array([[11 ,22, 33], [44, 55, 66], [77, 88, 99]])\n",
    "#print(ar2)\n",
    "print('Accesing 2nd column: ',ar2[0:3,1:2])\n",
    "print('\\nAccessing 3rd column: ',ar2[0:3,2:3])"
   ]
  },
  {
   "cell_type": "markdown",
   "metadata": {},
   "source": [
    "Question 4: Following is the given numpy array return array of odd rows and even columns"
   ]
  },
  {
   "cell_type": "code",
   "execution_count": 86,
   "metadata": {},
   "outputs": [
    {
     "name": "stdout",
     "output_type": "stream",
     "text": [
      "ODD ROWS, EVEN COLUMNS:\n",
      " [[15 21]\n",
      " [39 45]]\n",
      "EVEN ROWS, ODD COLUMNS:\n",
      " [[ 6 12]\n",
      " [30 36]\n",
      " [54 60]]\n"
     ]
    }
   ],
   "source": [
    "ar3 = np.array([[3 ,6, 9, 12], [15 ,18, 21, 24], [27 ,30, 33, 36], [39 ,42, 45, 48], [51 ,54, 57, 60]])\n",
    "\n",
    "# As it is asking for ODD ROWS, EVEN COLUMNS. There are only two odd number rows (1,3) \n",
    "# and two even numbered columns(0,2)\n",
    "print('ODD ROWS, EVEN COLUMNS:\\n',ar3[1::2,0::2])\n",
    "print('EVEN ROWS, ODD COLUMNS:\\n',ar3[0::2,1::2])"
   ]
  },
  {
   "cell_type": "markdown",
   "metadata": {},
   "source": [
    "Question 5: Add the following two NumPy arrays and Modify a result array by calculating the square root of each element"
   ]
  },
  {
   "cell_type": "code",
   "execution_count": 98,
   "metadata": {},
   "outputs": [
    {
     "name": "stdout",
     "output_type": "stream",
     "text": [
      "Sum of arrays:  [[20 39 33]\n",
      " [25 25 28]]\n",
      "Squares of elements of sum array:  [[ 400 1521 1089]\n",
      " [ 625  625  784]]\n",
      "\n",
      "Sqaure root of sum array:  [[20. 39. 33.]\n",
      " [25. 25. 28.]]\n"
     ]
    }
   ],
   "source": [
    "ar4 = np.array([[5, 6, 9], [21 ,18, 27]])\n",
    "ar5 = np.array([[15 ,33, 24], [4 ,7, 1]])\n",
    "\n",
    "# adding the two arrays\n",
    "result = ar4 + ar5\n",
    "print('Sum of arrays: ',result)\n",
    "\n",
    "# calculating the square of the elements of result\n",
    "result = pow(result,2)\n",
    "print('Squares of elements of sum array: ',result)\n",
    "\n",
    "\n",
    "# Calculate sqrt of all elements of array\n",
    "result = np.sqrt(result)\n",
    "print('\\nSqaure root of sum array: ',result)"
   ]
  },
  {
   "cell_type": "markdown",
   "metadata": {},
   "source": [
    "Question 6: Split the array into four equal-sized sub-arrays"
   ]
  },
  {
   "cell_type": "code",
   "execution_count": 104,
   "metadata": {},
   "outputs": [
    {
     "name": "stdout",
     "output_type": "stream",
     "text": [
      "Number of elements in array:  24\n",
      "Shape of array:  (24,)\n",
      "Array dimension:  1\n",
      "Reshaped array:  [[10 11 12]\n",
      " [13 14 15]\n",
      " [16 17 18]\n",
      " [19 20 21]\n",
      " [22 23 24]\n",
      " [25 26 27]\n",
      " [28 29 30]\n",
      " [31 32 33]]\n",
      "\n",
      "Split array:  [array([[10, 11, 12],\n",
      "       [13, 14, 15]]), array([[16, 17, 18],\n",
      "       [19, 20, 21]]), array([[22, 23, 24],\n",
      "       [25, 26, 27]]), array([[28, 29, 30],\n",
      "       [31, 32, 33]])]\n"
     ]
    }
   ],
   "source": [
    "lstOne = []\n",
    "for i in range(10,34,1):\n",
    "    lstOne.append(i)\n",
    "    \n",
    "ar6 = np.asarray(lstOne)\n",
    "print('Number of elements in array: ',len(ar6))\n",
    "print('Shape of array: ',ar6.shape)\n",
    "print('Array dimension: ',ar6.ndim)\n",
    "\n",
    "# Create 8*3 array\n",
    "ar6 = ar6.reshape(8,3)\n",
    "print('Reshaped array: ',ar6)\n",
    "\n",
    "\n",
    "# We are suppose to create 4 sub arrays. Since there are 24 elements which have to be divided equally in 4 sub arrays\n",
    "splitArray = np.split(ar6,4)\n",
    "print('\\nSplit array: ',splitArray)"
   ]
  },
  {
   "cell_type": "markdown",
   "metadata": {},
   "source": [
    "Question 7; Sort following NumPy array\n",
    "7.1 - by the second row and\n",
    "7.2 -by the second column"
   ]
  },
  {
   "cell_type": "code",
   "execution_count": 126,
   "metadata": {},
   "outputs": [
    {
     "name": "stdout",
     "output_type": "stream",
     "text": [
      "Original:  [[34 43 73]\n",
      " [82 22 12]\n",
      " [53 94 66]]\n",
      "\n",
      "Sorted along 2 row:  [[73 43 34]\n",
      " [12 22 82]\n",
      " [66 94 53]]\n",
      "\n",
      "Sorted along 2 column:  [[82 22 12]\n",
      " [34 43 73]\n",
      " [53 94 66]]\n"
     ]
    }
   ],
   "source": [
    "ar7 = np.array([[34,43,73],[82,22,12],[53,94,66]])\n",
    "print('Original: ',ar7)\n",
    "\n",
    "# Since we want to sort along a given axis, we have to use argsort()\n",
    "srtd7 = ar7[:,ar7[1,:].argsort()] # argsort will return the indexes of the sort order.In this case it is (2,1,0) along second row.\n",
    "print('\\nSorted along 2 row: ',srtd7)\n",
    "\n",
    "srtcol7 = ar7[ar7[:,1].argsort()] # argsort will return the indexes of the sort order. In this case it (1,0,2) along 2nd column\n",
    "print('\\nSorted along 2 column: ',srtcol7)"
   ]
  },
  {
   "cell_type": "markdown",
   "metadata": {},
   "source": [
    "Following is the 2-D array. Print max from axis 0 and min from axis 1"
   ]
  },
  {
   "cell_type": "code",
   "execution_count": 141,
   "metadata": {},
   "outputs": [
    {
     "name": "stdout",
     "output_type": "stream",
     "text": [
      "Original:\n",
      " [[34 43 73]\n",
      " [82 22 12]\n",
      " [53 94 66]]\n",
      "\n",
      "Min array:  [34 12 53]\n",
      "Max array:  [82 94 73]\n"
     ]
    }
   ],
   "source": [
    "ar8 = np.array([[34,43,73],[82,22,12],[53,94,66]])\n",
    "print('Original:\\n',ar8)\n",
    "mnar8 = np.amin(ar8,axis=1) # Since we need the subarray, we use amin(array,axis) axis=1, along the column\n",
    "print('\\nMin array: ',mnar8)\n",
    "mxar8 = np.amax(ar8,axis=0) # axis = 0, along the row\n",
    "print('Max array: ',mxar8)"
   ]
  },
  {
   "cell_type": "markdown",
   "metadata": {},
   "source": [
    "Question 9: Following is the input NumPy array delete column two and insert following new column in its place."
   ]
  },
  {
   "cell_type": "code",
   "execution_count": 148,
   "metadata": {},
   "outputs": [
    {
     "name": "stdout",
     "output_type": "stream",
     "text": [
      "Original array:  [[34 43 73]\n",
      " [82 22 12]\n",
      " [53 94 66]]\n",
      "\n",
      "After deleting 2nd column:\n",
      " [[34 73]\n",
      " [82 12]\n",
      " [53 66]]\n",
      "\n",
      "After inserting new column in position 1, updated array:\n",
      " [[34 10 73]\n",
      " [82 10 12]\n",
      " [53 10 66]]\n"
     ]
    }
   ],
   "source": [
    "ar9 = np.array([[34,43,73],[82,22,12],[53,94,66]])\n",
    "print('Original array: ',ar9)\n",
    "\n",
    "# Deleting column 2\n",
    "ar9 = np.delete(ar9,1,axis=1)  # np.delete(array, column/row number, axis)\n",
    "print('\\nAfter deleting 2nd column:\\n',ar9)\n",
    "\n",
    "# Inserting new column\n",
    "newArray = np.array([[10,10,10]])\n",
    "ar9 = np.insert(ar9,1,newArray,axis=1)\n",
    "print('\\nAfter inserting new column in position 1, updated array:\\n',ar9)"
   ]
  },
  {
   "cell_type": "markdown",
   "metadata": {},
   "source": [
    "Question 10: Create a two 2-D array and Plot it using matplotlib"
   ]
  },
  {
   "cell_type": "code",
   "execution_count": 158,
   "metadata": {},
   "outputs": [
    {
     "data": {
      "text/plain": [
       "<matplotlib.image.AxesImage at 0x10fc035c0>"
      ]
     },
     "execution_count": 158,
     "metadata": {},
     "output_type": "execute_result"
    },
    {
     "data": {
      "image/png": "[encoded data removed]",
      "text/plain": [
       "<matplotlib.figure.Figure at 0x10f9d2b00>"
      ]
     },
     "metadata": {},
     "output_type": "display_data"
    }
   ],
   "source": [
    "import matplotlib.pyplot as plt  \n",
    "d2Array = np.array([[34,43,73],[82,22,12],[53,94,66]])\n",
    "plt.imshow(d2Array)"
   ]
  },
  {
   "cell_type": "code",
   "execution_count": null,
   "metadata": {},
   "outputs": [],
   "source": []
  }
 ],
 "metadata": {
  "kernelspec": {
   "display_name": "Python 3",
   "language": "python",
   "name": "python3"
  },
  "language_info": {
   "codemirror_mode": {
    "name": "ipython",
    "version": 3
   },
   "file_extension": ".py",
   "mimetype": "text/x-python",
   "name": "python",
   "nbconvert_exporter": "python",
   "pygments_lexer": "ipython3",
   "version": "3.6.4"
  }
 },
 "nbformat": 4,
 "nbformat_minor": 2
}
