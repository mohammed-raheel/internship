{
 "cells": [
  {
   "cell_type": "markdown",
   "metadata": {},
   "source": [
    "Exercise Question 1: Given a two list. Create a third list by picking an odd-index element from the first list and even index elements from second."
   ]
  },
  {
   "cell_type": "code",
   "execution_count": 2,
   "metadata": {},
   "outputs": [
    {
     "name": "stdout",
     "output_type": "stream",
     "text": [
      "[6, 12, 18, 4, 12, 20, 28]\n"
     ]
    }
   ],
   "source": [
    "lstOne = [3, 6, 9, 12, 15, 18, 21]\n",
    "lstTwo = [4, 8, 12, 16, 20, 24, 28]\n",
    "\n",
    "lstThree = lstOne[1::2] + lstTwo[0::2]\n",
    "print(lstThree)"
   ]
  },
  {
   "cell_type": "markdown",
   "metadata": {},
   "source": [
    "Exercise Question 2: Given an input list removes the element at index 4 and add it to the 2nd position and also, at the end of the list"
   ]
  },
  {
   "cell_type": "code",
   "execution_count": 17,
   "metadata": {},
   "outputs": [
    {
     "name": "stdout",
     "output_type": "stream",
     "text": [
      "Original list:\n",
      " [34, 54, 67, 89, 11, 43, 94] \n",
      "\n",
      "List after removing element from index 4:\n",
      " [34, 54, 67, 89, 43, 94] \n",
      "\n",
      "Added element at index 2:\n",
      " [34, 54, 11, 67, 89, 43, 94] \n",
      "\n",
      "Added element to end of list:\n",
      " [34, 54, 11, 67, 89, 43, 94, 11] \n",
      "\n"
     ]
    }
   ],
   "source": [
    "lst3 = [34, 54, 67, 89, 11, 43, 94]\n",
    "elemAt4 = lst3[4]\n",
    "\n",
    "print('Original list:\\n',lst3,'\\n')\n",
    "\n",
    "# Remove element from index 4\n",
    "lst3.remove(elemAt4)\n",
    "print('List after removing element from index 4:\\n',lst3,'\\n')\n",
    "\n",
    "# Add element to second index\n",
    "lst3.insert(2,elemAt4)\n",
    "print('Added element at index 2:\\n',lst3,'\\n')\n",
    "\n",
    "# Adding element to end of the list\n",
    "lst3.append(elemAt4)\n",
    "print('Added element to end of list:\\n',lst3,'\\n')"
   ]
  },
  {
   "cell_type": "markdown",
   "metadata": {},
   "source": [
    "Exercise Question 3: Given a list slice it into a 3 equal chunks and rever each list"
   ]
  },
  {
   "cell_type": "code",
   "execution_count": 20,
   "metadata": {},
   "outputs": [
    {
     "name": "stdout",
     "output_type": "stream",
     "text": [
      "Chunk 1: [11, 45, 8] ----- reveresed list ---> [8, 45, 11]\n",
      "Chunk 2: [23, 14, 12] ----- reveresed list ---> [12, 14, 23]\n",
      "Chunk 3: [78, 45, 89] ----- reveresed list ---> [89, 45, 78]\n"
     ]
    }
   ],
   "source": [
    "lst4 = [11, 45, 8, 23, 14, 12, 78, 45, 89]\n",
    "\n",
    "def sliceList(lst):\n",
    "    lengthOfList = len(lst)\n",
    "    # since we have to divide in 3 equal chunks\n",
    "    sliceIndex = 3\n",
    "    chunk1 = lst[:sliceIndex]\n",
    "    chunk2 = lst[sliceIndex:sliceIndex*2]\n",
    "    chunk3 = lst[sliceIndex*2:]\n",
    "    \n",
    "    print('Chunk 1: {0} ----- reveresed list ---> {1}'.format(chunk1,chunk1[::-1]))\n",
    "    print('Chunk 2: {0} ----- reveresed list ---> {1}'.format(chunk2,chunk2[::-1]))\n",
    "    print('Chunk 3: {0} ----- reveresed list ---> {1}'.format(chunk3,chunk3[::-1]))\n",
    "    \n",
    "sliceList(lst4)"
   ]
  },
  {
   "cell_type": "markdown",
   "metadata": {},
   "source": [
    "Exercise Question 4: Given a list iterate it and count the occurrence of each element and create a dictionary to show the count of each element"
   ]
  },
  {
   "cell_type": "code",
   "execution_count": 21,
   "metadata": {},
   "outputs": [
    {
     "name": "stdout",
     "output_type": "stream",
     "text": [
      "The count of elements:\n",
      " {11: 2, 45: 3, 8: 1, 23: 2, 89: 1}\n"
     ]
    }
   ],
   "source": [
    "lst5 = [11, 45, 8, 11, 23, 45, 23, 45, 89]\n",
    "\n",
    "def countElementsOfList(lst):\n",
    "    # Create a dictionary to keep all elements along with its count\n",
    "    countDict = dict()\n",
    "    if len(lst)>0:\n",
    "        for i in lst:\n",
    "            countDict[i] = lst.count(i)\n",
    "        print('The count of elements:\\n',countDict)\n",
    "    else:\n",
    "        print('List is empty')\n",
    "\n",
    "countElementsOfList(lst5)"
   ]
  },
  {
   "cell_type": "markdown",
   "metadata": {},
   "source": [
    "Exercise Question 5: Given a two list of equal size create a set such that it shows the element from both lists in the pair"
   ]
  },
  {
   "cell_type": "code",
   "execution_count": 28,
   "metadata": {},
   "outputs": [
    {
     "name": "stdout",
     "output_type": "stream",
     "text": [
      "{(6, 36), (8, 64), (4, 16), (5, 25), (3, 9), (7, 49), (2, 4)}\n"
     ]
    }
   ],
   "source": [
    "lst6 = [2, 3, 4, 5, 6, 7, 8]\n",
    "lst7 = [4, 9, 16, 25, 36, 49, 64]\n",
    "\n",
    "# Check the length of lists\n",
    "lnOfLst6 = len(lst6)\n",
    "lnOfLst7 = len(lst7)\n",
    "pairOfListElements = set()\n",
    "\n",
    "if lnOfLst6 == lnOfLst7:\n",
    "    for i in zip(lst6,lst7):\n",
    "        pairOfListElements.add(i)\n",
    "else:\n",
    "    print('List are not of same length')\n",
    "\n",
    "print(pairOfListElements)"
   ]
  },
  {
   "cell_type": "markdown",
   "metadata": {},
   "source": [
    "Exercise Question 6: Given a following two sets find the intersection and remove those elements from the first set"
   ]
  },
  {
   "cell_type": "code",
   "execution_count": 52,
   "metadata": {},
   "outputs": [
    {
     "name": "stdout",
     "output_type": "stream",
     "text": [
      "Orginal set1:\n",
      " {65, 42, 78, 83, 23, 57, 29} \n",
      "\n",
      "Orginal set2:\n",
      " {67, 73, 43, 48, 83, 57, 29} \n",
      "\n",
      "Common elements between the two sets:\n",
      " {57, 83, 29} \n",
      "\n",
      "After removing common elements from set1:\n",
      " {65, 42, 78, 23}\n"
     ]
    }
   ],
   "source": [
    "st1 = {65, 42, 78, 83, 23, 57, 29}\n",
    "st2 = {67, 73, 43, 48, 83, 57, 29}\n",
    "\n",
    "print('Orginal set1:\\n',st1,'\\n')\n",
    "print('Orginal set2:\\n',st2,'\\n')\n",
    "\n",
    "commonElements = st1.intersection(st2)\n",
    "print('Common elements between the two sets:\\n',commonElements,'\\n')\n",
    "#print(type(commonElements))\n",
    "\n",
    "# Remove common elements from st1\n",
    "for i in commonElements:\n",
    "    st1.remove(i)\n",
    "print('After removing common elements from set1:\\n',st1)"
   ]
  },
  {
   "cell_type": "markdown",
   "metadata": {},
   "source": [
    "Exercise Question 7: Given two sets, Checks if One Set is Subset or superset of Another Set. if the subset is found delete all elements from that set"
   ]
  },
  {
   "cell_type": "code",
   "execution_count": 62,
   "metadata": {},
   "outputs": [
    {
     "name": "stdout",
     "output_type": "stream",
     "text": [
      "Is Set1 a superset of Set2:  False\n",
      "Is Set2 a superset of Set1:  True \n",
      "\n",
      "Set1 is subset of Set2\n",
      "Removing elements of Set1: set()\n",
      "Set2 elements:  {67, 73, 43, 48, 83, 57, 29}\n"
     ]
    }
   ],
   "source": [
    "st3 = {57, 83, 29}\n",
    "st4 = {67, 73, 43, 48, 83, 57, 29}\n",
    "\n",
    "print('Is Set1 a superset of Set2: ',st3.issuperset(st4))\n",
    "print('Is Set2 a superset of Set1: ',st4.issuperset(st3),'\\n')\n",
    "if st3.issubset(st4):\n",
    "    print('Set1 is subset of Set2')\n",
    "    st3.clear()\n",
    "    print('Removing elements of Set1:',st3)\n",
    "    print('Set2 elements: ',st4)\n",
    "else:\n",
    "    print('Set2 is subset of Set1:\\n')\n",
    "    st4.clear()\n",
    "    print('Removing elements of Set2:',st3)\n",
    "    print('Set1 elements: ',st3)\n",
    "    \n",
    "    \n"
   ]
  },
  {
   "cell_type": "markdown",
   "metadata": {},
   "source": [
    "Exercise Question 8: Iterate a given list and Check if a given element already exists in a dictionary as a key’s value if not delete it from the list"
   ]
  },
  {
   "cell_type": "code",
   "execution_count": 85,
   "metadata": {},
   "outputs": [
    {
     "name": "stdout",
     "output_type": "stream",
     "text": [
      "Elements not present:  [64, 37, 83, 95]\n",
      "[47, 69, 76, 97]\n"
     ]
    }
   ],
   "source": [
    "lst8 = [47, 64, 69, 37, 76, 83, 95, 97]\n",
    "cDict = {'Jhon':47, 'Emma':69, 'Kelly':76, 'Jason':97}\n",
    "\n",
    "elemToRemove = []\n",
    "for i in lst8:\n",
    "    if i in cDict.values():\n",
    "        continue\n",
    "    else:\n",
    "        elemToRemove.append(i)\n",
    "\n",
    "print('Elements not present: ',elemToRemove)\n",
    "[lst8.remove(i) for i in elemToRemove]\n",
    "print(lst8)"
   ]
  },
  {
   "cell_type": "markdown",
   "metadata": {},
   "source": [
    "Exercise Question 9: Given a dictionary get all values from the dictionary and add it in a list but don’t add duplicates"
   ]
  },
  {
   "cell_type": "code",
   "execution_count": 89,
   "metadata": {},
   "outputs": [
    {
     "name": "stdout",
     "output_type": "stream",
     "text": [
      "[47, 52, 44, 53, 54]\n"
     ]
    }
   ],
   "source": [
    "sampleDict = {'jan':47, 'feb':52, 'march':47, 'April':44, 'May':52, 'June':53, 'july':54, 'Aug':44, 'Sept':54}\n",
    "lstValues = []\n",
    "\n",
    "dicValues = sampleDict.values()\n",
    "for i in dicValues:\n",
    "    if i in lstValues:\n",
    "        continue\n",
    "    else:\n",
    "        lstValues.append(i)\n",
    "        \n",
    "print(lstValues)"
   ]
  },
  {
   "cell_type": "markdown",
   "metadata": {},
   "source": [
    "Exercise Question 10: Remove duplicate from a list and create a tuple and find the minimum and maximum number"
   ]
  },
  {
   "cell_type": "code",
   "execution_count": 94,
   "metadata": {},
   "outputs": [
    {
     "name": "stdout",
     "output_type": "stream",
     "text": [
      "Tuple:  (65, 99, 41, 45, 87, 94)\n",
      "Max element:  99\n",
      "Min element:  41\n"
     ]
    }
   ],
   "source": [
    "dupLst = [87, 45, 41, 65, 94, 41, 99, 94]\n",
    "\n",
    "# set removes duplicates and then creat a new list\n",
    "dupLst = list(set(dupLst))\n",
    "\n",
    "# Create a tuple\n",
    "newTup = tuple(dupLst)\n",
    "\n",
    "print('Tuple: ',newTup)\n",
    "print('Max element: ',max(newTup))\n",
    "print('Min element: ',min(newTup))"
   ]
  },
  {
   "cell_type": "code",
   "execution_count": null,
   "metadata": {},
   "outputs": [],
   "source": []
  }
 ],
 "metadata": {
  "kernelspec": {
   "display_name": "Python 3",
   "language": "python",
   "name": "python3"
  },
  "language_info": {
   "codemirror_mode": {
    "name": "ipython",
    "version": 3
   },
   "file_extension": ".py",
   "mimetype": "text/x-python",
   "name": "python",
   "nbconvert_exporter": "python",
   "pygments_lexer": "ipython3",
   "version": "3.6.4"
  }
 },
 "nbformat": 4,
 "nbformat_minor": 2
}
