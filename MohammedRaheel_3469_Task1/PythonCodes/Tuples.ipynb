{
 "cells": [
  {
   "cell_type": "markdown",
   "metadata": {},
   "source": [
    "Exercise Question 1: Reverse the following tuple"
   ]
  },
  {
   "cell_type": "code",
   "execution_count": 6,
   "metadata": {},
   "outputs": [
    {
     "name": "stdout",
     "output_type": "stream",
     "text": [
      "Original tuple:\n",
      " (10, 20, 30, 40, 50)\n",
      "Reveresed tuple:\n",
      " (50, 40, 30, 20, 10)\n"
     ]
    }
   ],
   "source": [
    "tup1 = (10, 20, 30, 40, 50)\n",
    "print('Original tuple:\\n',tup1)\n",
    "print('Reveresed tuple:\\n',tup1[::-1])"
   ]
  },
  {
   "cell_type": "markdown",
   "metadata": {},
   "source": [
    "Exercise Question 2: Access value 20 from the following tuple"
   ]
  },
  {
   "cell_type": "code",
   "execution_count": 8,
   "metadata": {},
   "outputs": [
    {
     "name": "stdout",
     "output_type": "stream",
     "text": [
      "20\n"
     ]
    }
   ],
   "source": [
    "tup2 = (\"Orange\", [10, 20, 30], (5, 15, 25))\n",
    "# Accesing element 20\n",
    "print(tup2[1][1])"
   ]
  },
  {
   "cell_type": "markdown",
   "metadata": {},
   "source": [
    "Exercise Question 3: Create a tuple with single item 50"
   ]
  },
  {
   "cell_type": "code",
   "execution_count": 22,
   "metadata": {},
   "outputs": [
    {
     "name": "stdout",
     "output_type": "stream",
     "text": [
      "<class 'tuple'>\n",
      "(50,)\n"
     ]
    }
   ],
   "source": [
    "tup3 = (50,)   # if we only pass 50 in the arguments within paranthesis, the variable gets treated as an int type\n",
    "print(type(tup3))\n",
    "print(tup3)"
   ]
  },
  {
   "cell_type": "markdown",
   "metadata": {},
   "source": [
    "Exercise Question 4: Unpack the following tuple into 4 variables"
   ]
  },
  {
   "cell_type": "code",
   "execution_count": 25,
   "metadata": {},
   "outputs": [
    {
     "name": "stdout",
     "output_type": "stream",
     "text": [
      "10\n",
      "20\n",
      "30\n",
      "40\n"
     ]
    }
   ],
   "source": [
    "tup4 = (10, 20, 30, 40)\n",
    "a,b,c,d = (i for i in tup4)\n",
    "print(a)\n",
    "print(b)\n",
    "print(c)\n",
    "print(d)"
   ]
  },
  {
   "cell_type": "markdown",
   "metadata": {},
   "source": [
    "Exercise Question 5: Swap the following two tuples"
   ]
  },
  {
   "cell_type": "code",
   "execution_count": 27,
   "metadata": {},
   "outputs": [
    {
     "name": "stdout",
     "output_type": "stream",
     "text": [
      "(99, 88)\n",
      "(11, 22)\n"
     ]
    }
   ],
   "source": [
    "tup5 = (11, 22)\n",
    "tup6 = (99, 88)\n",
    "tup5,tup6 = tup6,tup5\n",
    "print(tup5)\n",
    "print(tup6)"
   ]
  },
  {
   "cell_type": "markdown",
   "metadata": {},
   "source": [
    "Exercise Question 6: Copy element 44 and 55 from the following tuple into a new tuple"
   ]
  },
  {
   "cell_type": "code",
   "execution_count": 37,
   "metadata": {},
   "outputs": [
    {
     "name": "stdout",
     "output_type": "stream",
     "text": [
      "Original tuple:\n",
      " (11, 22, 33, 44, 55, 66)\n",
      "New tuple:\n",
      " (44, 55)\n",
      "Elements after slicing:\n",
      " (44, 55)\n"
     ]
    }
   ],
   "source": [
    "tup7 = (11, 22, 33, 44, 55, 66)\n",
    "# Approach 1\n",
    "tup8 = [i for i in tup7 if i==44 or i==55]\n",
    "print('Original tuple:\\n',tup7)\n",
    "print('New tuple:\\n',tuple(tup8))\n",
    "\n",
    "# Approach 2\n",
    "print('Elements after slicing:\\n',tup7[3:len(tup7)-1])"
   ]
  },
  {
   "cell_type": "markdown",
   "metadata": {},
   "source": [
    "Exercise Question 7: Modify the first item (22) of a list inside a following tuple to 222"
   ]
  },
  {
   "cell_type": "code",
   "execution_count": 41,
   "metadata": {},
   "outputs": [
    {
     "name": "stdout",
     "output_type": "stream",
     "text": [
      "(11, [222, 33], 44, 55)\n"
     ]
    }
   ],
   "source": [
    "tup9 = (11, [22, 33], 44, 55)\n",
    "# Modifying the element\n",
    "tup9[1][0] = 222\n",
    "print(tup9)"
   ]
  },
  {
   "cell_type": "markdown",
   "metadata": {},
   "source": [
    "Exercise Question 8: Sort a tuple of tuples by 2nd item"
   ]
  },
  {
   "cell_type": "code",
   "execution_count": 85,
   "metadata": {},
   "outputs": [
    {
     "name": "stdout",
     "output_type": "stream",
     "text": [
      "[('a', 23), ('b', 37), ('c', 11), ('d', 29)]\n",
      "Sorted:\n",
      " [('a', 23), ('b', 37), ('c', 11), ('d', 29)]\n",
      "(('c', 11), ('a', 23), ('d', 29), ('b', 37))\n"
     ]
    }
   ],
   "source": [
    "tup10 = (('a', 23),('b', 37),('c', 11), ('d',29))\n",
    "lengthTup = len(tup10)\n",
    "indexes = [i for i in range(0,lengthTup)]\n",
    "key = [tup10[i][0] for i in indexes]\n",
    "value = [tup10[i][1] for i in indexes]\n",
    "#print('KEYS:\\n',key)\n",
    "#print('VALUES:\\n',value)\n"
   ]
  },
  {
   "cell_type": "markdown",
   "metadata": {},
   "source": [
    "Exercise Question 9: Counts the number of occurrences of item 50 from a tuple"
   ]
  },
  {
   "cell_type": "code",
   "execution_count": 77,
   "metadata": {},
   "outputs": [
    {
     "name": "stdout",
     "output_type": "stream",
     "text": [
      "Count of 50 = 2\n"
     ]
    }
   ],
   "source": [
    "tup11 = (50, 10, 60, 70, 50)\n",
    "elemToSearch = 50\n",
    "print('Count of {0} = {1}'.format(elemToSearch,tup11.count(50)))"
   ]
  },
  {
   "cell_type": "markdown",
   "metadata": {},
   "source": [
    "Exercise Question 10: Check if all items in the following tuple are the same"
   ]
  },
  {
   "cell_type": "code",
   "execution_count": 80,
   "metadata": {},
   "outputs": [
    {
     "name": "stdout",
     "output_type": "stream",
     "text": [
      "Elements are same in the given tuple\n"
     ]
    },
    {
     "data": {
      "text/plain": [
       "True"
      ]
     },
     "execution_count": 80,
     "metadata": {},
     "output_type": "execute_result"
    }
   ],
   "source": [
    "tup12 = (45, 45, 45, 45)\n",
    "\n",
    "def checkItemSame(tup):\n",
    "    lengthOfTup = len(tup)\n",
    "    firstElem = tup[0]\n",
    "    if lengthOfTup == tup.count(firstElem):\n",
    "        print('Elements are same in the given tuple')\n",
    "        return True\n",
    "    else:\n",
    "        print('Elements are not the same in the given tuple')\n",
    "        return False\n",
    "checkItemSame(tup12)"
   ]
  },
  {
   "cell_type": "code",
   "execution_count": null,
   "metadata": {},
   "outputs": [],
   "source": []
  }
 ],
 "metadata": {
  "kernelspec": {
   "display_name": "Python 3",
   "language": "python",
   "name": "python3"
  },
  "language_info": {
   "codemirror_mode": {
    "name": "ipython",
    "version": 3
   },
   "file_extension": ".py",
   "mimetype": "text/x-python",
   "name": "python",
   "nbconvert_exporter": "python",
   "pygments_lexer": "ipython3",
   "version": "3.6.4"
  }
 },
 "nbformat": 4,
 "nbformat_minor": 2
}
